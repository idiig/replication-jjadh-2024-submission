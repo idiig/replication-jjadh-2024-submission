{
 "cells": [
  {
   "cell_type": "markdown",
   "metadata": {},
   "source": [
    "---\n",
    "title: 古今和歌集の現代日本語訳の分析 - 追加率と拡張意味単位の観点から\n",
    "author:\n",
    "  - name: Xudong Chen\n",
    "    corresponding: false\n",
    "    roles: []\n",
    "    id: jc\n",
    "    orcid: 0000-0002-4542-2878\n",
    "    email: xchen@shs.ens.titech.ac.jp\n",
    "    affiliation:\n",
    "      - name: Tokyo Institute of Technology\n",
    "        city: Tokyo\n",
    "        country: Japan\n",
    "        url: https://www.titech.ac.jp/english/\n",
    "        isni: 0000000121792105\n",
    "        ror: 0112mx960\n",
    "  - name: ‪Bor Hodošček‬\n",
    "    corresponding: false\n",
    "    roles: []\n",
    "    id: jc\n",
    "    orcid: 0000-0003-2246-8774\n",
    "    email: hodoscek.bor.hmt@osaka-u.ac.jp\n",
    "    affiliation:\n",
    "      - name: Osaka University\n",
    "        city: Osaka\n",
    "        country: Japan\n",
    "        url: https://www.osaka-u.ac.jp/en\n",
    "        isni: 0000000403733971\n",
    "        ror: 035t8zc32\n",
    "  - name: Hilofumi Yamamoto\n",
    "    corresponding: true\n",
    "    roles: []\n",
    "    id: jc\n",
    "    orcid: 0000-0001-6876-139X\n",
    "    email: yamagen@lia.titech.ac.jp\n",
    "    affiliation:\n",
    "      - name: Tokyo Institute of Technology\n",
    "        city: Tokyo\n",
    "        country: Japan\n",
    "        url: https://www.titech.ac.jp/english/\n",
    "        isni: 0000000121792105\n",
    "        ror: 0112mx960\n",
    "date: \"2024/09/01\"\n",
    "abstract: |\n",
    "  本論文の目的は、原文との一致率の計算と意味拡張単位の翻訳という二つの側面から、和歌の現代語訳が、たとえ直訳・逐語訳に拘っているとしても、和歌辞典とは異なる解釈材料として、和歌の非字義的な情報を補足説明するために使用できることを示すことである。本研究の貢献は以下にある（仮）。1. 古今和歌集の現代語訳における初の語彙コーパスを公開した。2. 古今和歌集の翻訳の歴史的変遷を俯瞰し、特に20世紀における和歌の現代語訳の翻訳方針および翻訳観の整理を行った。3. 古語と現代語の翻訳対応率の計算により、翻訳方針にかかわらず、現代語訳において情報が追加されていることを示した。4. 意味拡張単位の観点に基づいた事例研究では、collocation（語と語の共出現）のノンリテラルなレベルでは現代語訳では追加はせず、入れ替えも比較的一貫している。対して、5. coligation（語とグラマレィカルパターンとの共出現）、semantic preference（語と特定意味領域との共出現）といったノンリテラルなレベルでは、原文に対してより多様な入れ替えと追加が行われ、対応づけが多様化していくことを明らかにした。以上により、現代語訳をノンリテラルレベルの可視化に応用すると考えられる。\n",
    "plain-language-summary: |\n",
    "  Test\n",
    "key-points:\n",
    "  - A web scraping script was developed to pull data from the Instituto Geogràphico Nacional into a machine-readable form for analysis\n",
    "  - Earthquake events on La Palma are consistent with the presence of both mantle and crustal reservoirs.\n",
    "\n",
    "citation:\n",
    "  container-title: Journal of Japanese Association for Digital Humanities\n",
    "  volume: 0\n",
    "  issue: 0\n",
    "  doi: 10.17928/jjadh.0.0_0\n",
    "keywords:\n",
    "  - Classic Japanese Poetry\n",
    "  - Translation\n",
    "  - Alignment\n",
    "  - Extended Unit of Meaning\n",
    "license: \"CC BY\"\n",
    "copyright:\n",
    "  holder: Xudong Chen, Bor Hodošček, Hilofumi Yamamoto\n",
    "  year: 2024\n",
    "funding: \"This work was supported by JSPS KAKENHI Grant Number JP18K00528 and JP23KJ0910, JP23K00545.\"\n",
    "\n",
    "format:\n",
    "  html:\n",
    "    code-links:\n",
    "      - text: Data Import Code\n",
    "        icon: file-code\n",
    "        href: https://github.com/idiig/jjadh-replication/tree/main\n",
    "    theme: default\n",
    "    toc: true\n",
    "    toc-title: 目次\n",
    "    toc-location: right-body\n",
    "    number-sections: true\n",
    "    html-math-method: katex\n",
    "    fig_caption: true\n",
    "    cap-location: margin\n",
    "    reference-location: margin\n",
    "    citation-location: document\n",
    "    code-fold: true\n",
    "    fig-path: \"artifacts/figures\"\n",
    "    fig-format: \"svg\"\n",
    "    fig-width: 6\n",
    "    fig-height: 3.71\n",
    "  pdf:\n",
    "    toc: true\n",
    "    toc-title: 目次\n",
    "    number-sections: true\n",
    "    fig_caption: true\n",
    "    fig-path: \"artifacts/figures\"\n",
    "    fig-format: \"svg\"\n",
    "    fig-width: 6\n",
    "    fig-height: 3.71\n",
    "    pdf-engine: xelatex\n",
    "    citation-location: document\n",
    "  docx:\n",
    "    toc: true\n",
    "    toc-title: 目次\n",
    "    number-sections: true\n",
    "    fig_caption: true\n",
    "    fig-path: \"artifacts/figures\"\n",
    "    fig-format: \"png\"\n",
    "    fig-width: 6\n",
    "    fig-height: 3.71\n",
    "    citation-location: document\n",
    "\n",
    "execute:\n",
    "  freeze: auto\n",
    "  message: false\n",
    "\n",
    "bibliography: references.bib\n",
    "crossref:\n",
    "  fig-title: Figure # (default is \"Figure\")\n",
    "  tbl-title: Table  # (default is \"Table\")\n",
    "  title-delim: :\\quad  # (default is \":\")\n",
    "  fig-prefix: Figure  # (default is \"Figure\")\n",
    "  tbl-prefix: Table  # (default is \"Table\")\n",
    "  sec-prefix: Section  # (default is \"Section\")\n",
    "  eq-prefix: Eq.  # (default is \"Eq.\")\n",
    "---"
   ]
  },
  {
   "cell_type": "markdown",
   "metadata": {},
   "source": [
    ":::{.callout-important title=\"Note\"}\n",
    "test\n",
    ":::"
   ]
  },
  {
   "cell_type": "markdown",
   "metadata": {
    "id": "g2FTwGJvad7x"
   },
   "source": [
    "# はじめに"
   ]
  },
  {
   "cell_type": "markdown",
   "metadata": {
    "id": "zYcKtZvEazm-"
   },
   "source": [
    "## 目的と結論"
   ]
  },
  {
   "cell_type": "markdown",
   "metadata": {},
   "source": [
    "本論文の目的は、原文との一致率の計算と意味拡張単位の翻訳という二つの側面から、和歌の現代語訳が、たとえ直訳・逐語訳に拘っているとしても、和歌辞典とは異なる解釈材料として、和歌の非字義的な情報を補足説明するために使用できることを示すことである。\n",
    "\n",
    "本研究の貢献は以下にある（仮）。\n",
    "\n",
    "1. 古今和歌集の現代語訳における初の語彙コーパスを公開した。\n",
    "2. 古今和歌集の翻訳の歴史的変遷を俯瞰し、特に20世紀における和歌の現代語訳の翻訳方針および翻訳観の整理を行った。\n",
    "3. 古語と現代語の翻訳対応率の計算により、翻訳方針にかかわらず、現代語訳において情報が追加されていることを示した。\n",
    "4. 意味拡張単位の観点に基づいた事例研究では、collocation（語と語の共出現）のノンリテラルなレベルでは現代語訳では追加はせず、入れ替えも比較的一貫している。対して、\n",
    "5. coligation（語とグラマレィカルパターンとの共出現）、semantic preference（語と特定意味領域との共出現）といったノンリテラルなレベルでは、原文に対してより多様な入れ替えと追加が行われ、対応づけが多様化していくことを明らかにした。\n",
    "\n",
    "以上により、現代語訳をノンリテラルレベルの可視化に応用すると考えられる。"
   ]
  },
  {
   "cell_type": "markdown",
   "metadata": {},
   "source": [
    "## 背景"
   ]
  },
  {
   "cell_type": "markdown",
   "metadata": {
    "editable": true,
    "id": "bNe-xxq2a5HW",
    "slideshow": {
     "slide_type": ""
    },
    "tags": []
   },
   "source": [
    "### 和歌と和歌における非明示的要素"
   ]
  },
  {
   "cell_type": "markdown",
   "metadata": {},
   "source": [
    "古今和歌集仮名序にあるように、歌人が「心に思ふもの」を自然界の物事に託しており、和歌を字義通り理解したところでその「心に思ふもの」には直接アクセスしているとはいえない。古今集の恋の歌を例にあげよう：\n",
    "\n",
    "> 初雁の鳴きこそわたれ世の中の人の心の秋しうければ (古今・恋五・貫之)\n",
    "\n",
    "このテキストを読むとして、それぞれの語の字義的・リテラルな意味がわかれば、文字通り^[初雁が鳴いて渡ってくるのだが、人の心の秋が来るのが悲しいので（筆者訳）。]には理解できる。しかし、歌ことば辞典で「秋【あき】」[@katagiri1983Uta, 3] を調べると、リテラルな意味だけでは読まれていない情報があることに気付く。\n",
    "\n",
    "> 秋【あき】 […]「秋」と「飽」を掛け、過ぎ去ってゆく秋と過ぎ去ってゆく愛を惜しむことが多かった。【脚注】[雁の]「鳴く」を人が「泣く」と同列にしか把握しない […]\n",
    "\n",
    "この記述に従い読み解いていけば、恋人の心が「飽き（秋）」て、歌人が「泣（鳴）」いている「失恋」の話であろうと推測される。このように「秋」から読み取る「飽きる恋」の情報は、原文の文脈（周辺語）では非明示的、つまりノンリテラルであるため、語の文字通りの意味だけでは読み取れない。"
   ]
  },
  {
   "cell_type": "markdown",
   "metadata": {},
   "source": [
    "### 現代語訳に基づく非明示的要素の可視化"
   ]
  },
  {
   "cell_type": "markdown",
   "metadata": {},
   "source": [
    "以上のような非明示的要素の可視化システムの開発は、筆者が所属する山元研究室がこれまでに、現代語訳との相対化に基づく可視化システムを検討してきた [@Yamamoto2005Mathematical; @Yamamoto2006Extraction; @chin2022Tango; @Chen2024Translationbased]。\n",
    "\n",
    "現代語訳との相対化というのは、現代語の要素の集合から和歌の原文の要素を取り除き現代語にしか存在しない要素を引き立てることである。この考えが @kondo2001Ngram, @kondo2011Heian では「引き算」と称している。しかし、引き算で残った要素は、つまり、現代語訳で追加された要素はどのような性格であるか、明確にする必要がある。\n",
    "\n",
    "翻訳における要素の追加などの処理と操作に関して、@Koller2004Einfuehrung [p. 249] では翻訳者による「介入 (Eingriff)」として、「無害」とされる介入には、目的言語の読者の不足している背景知識や、デノテーション・コノテーション面の情報、そして、言語内的、社会文化的、間テキスト的な情報の損失を補うための注釈付き翻訳手法の結果としての追加が含まれていると指摘している。翻訳が注釈・辞書同様に、解釈資料として非明示的な情報の抽出に有効な材料と認識できる。\n",
    "\n",
    "ただし、翻訳における追加は読者の理解力を過大評価・過小評価した産物にもありうる [@Nida1964Science, p. 155; @Koller2004Einfuehrung, pp249--250]。この点においては、翻訳の insertation の多様性が伺える。\n",
    "古今和歌集の歌語の解釈資料としての現代語訳については、@Chen2024Translationbased では触れたものの、その多様性について十分説明していない。10 種類の現代語のコンテキストや、翻訳者の翻訳観を踏まえ再検討する余地がある。"
   ]
  },
  {
   "cell_type": "markdown",
   "metadata": {},
   "source": [
    "### 本稿の意義"
   ]
  },
  {
   "cell_type": "markdown",
   "metadata": {},
   "source": [
    "現代語訳の作成者はいずれも、和歌の原文に対する理解や解釈に独自の視点を持っており、それぞれ比較することによって、和歌の現代語訳の追加要素の性格のカテゴリ化、および、その普遍性を明確できる。\n",
    "\n",
    "前述にあったように、翻訳における追加は読者の理解力の過大評価・過小評価に基づき生成した産物である可能性があるため、異なる訳者において和歌の情報をどこまで現代読者に開示すべきか、あるいは開示できるか、それぞれ打算があるはずである。訳者の意識を整理し、その異同を明確にする、そして、彼らの実践としての翻訳にはそれぞれ意識している方針を守っているかを客観的に分析することで、翻訳の普遍的な課題と限界を考察することができよう。\n",
    "\n",
    "最終的に以上の知見を踏まえ、非明示的要素の可視化システムの根拠をより明確にでき、その改善の方向性をも明確できる。"
   ]
  },
  {
   "cell_type": "markdown",
   "metadata": {},
   "source": [
    "### 問題意識と本稿の構成"
   ]
  },
  {
   "cell_type": "markdown",
   "metadata": {},
   "source": [
    "本稿では、古今和歌集の現代語訳の歴史的変遷を辿り、古今集の現代語訳の訳者のそれぞれの翻訳観を提示し、3つの問題意識に対し考察を行う：\n",
    "\n",
    "1. 直訳を意識した訳者がほとんどか\n",
    "2. 直訳を意識した訳者と、意訳を意識した訳者は、その意識にかかわらず原文との一致率がどれほどあるか、2 者に統計的な差があるか\n",
    "3. 意味の拡張単位（後述）の観点から、訳者の追加に反映されている要素は何か\n",
    "\n",
    "本稿の構成は、以下となる：\n",
    "\n",
    "1. 材料：本稿の資料として、テキストの歴史的位置づけと、データ量について説明する。\n",
    "2. 方法\n",
    "  - 翻訳方針の記述の精査による翻訳観の分類\n",
    "  - 原文との差分による追加率の計算\n",
    "  - 拡張意味単位モデルの観点からのケーススタディ\n",
    "3. 結果\n",
    "4. 考察\n",
    "5. 結論"
   ]
  },
  {
   "cell_type": "markdown",
   "metadata": {
    "id": "iMSRMVO_PK4G"
   },
   "source": [
    "# データとその位置づけ：和歌、古今集、注釈、現代語訳"
   ]
  },
  {
   "cell_type": "markdown",
   "metadata": {},
   "source": [
    "本節では、材料である古今和歌集の説明に併せ、和歌、古今集、注釈と、その現代語訳について概観する。"
   ]
  },
  {
   "cell_type": "markdown",
   "metadata": {},
   "source": [
    "## 和歌"
   ]
  },
  {
   "cell_type": "markdown",
   "metadata": {},
   "source": [
    "和歌は「歌」「詠む」と言われるだけあって、本来は、宮廷で、声を上げて歌われていたものであるから、基本的に当時の話しことばである。\n",
    "古今集はその名前が示すように、それ以前の古代の歌と当時の歌を集めたものである。\n",
    "古代の和歌は、主に『万葉集』に収められた和歌を指し、7世紀から8世紀の和歌も収録され、山部赤人、柿本人麻呂、額田王など和歌の歴史上重要な歌も仮名で収められている。"
   ]
  },
  {
   "cell_type": "markdown",
   "metadata": {},
   "source": [
    "## 古今集"
   ]
  },
  {
   "cell_type": "markdown",
   "metadata": {},
   "source": [
    "古今集は、その後の勅撰（天皇命令による）和歌集、二十一代集の冒頭に成立し、その後の勅撰和歌集の基本的な形式を確立したものである。\n",
    "その序章には、編者、紀貫之による古今和歌集仮名序が記載されており、和歌の理論書として位置付けられている。\n",
    "和歌文学の研究資料として、のちの本歌取りの元歌の前提とされている、「源氏物語」、「土佐日記」、「伊勢物語」ほか、数々の作品に掲載されている、など日本文学の基本的な資料としても重要である。\n",
    "また、前述のように、話しことばの特徴を持つため、日本語の歴史的変遷を知る上でも重要な資料となっている。"
   ]
  },
  {
   "cell_type": "markdown",
   "metadata": {},
   "source": [
    "## 注釈と翻訳"
   ]
  },
  {
   "cell_type": "markdown",
   "metadata": {},
   "source": [
    "日本古典文学の歴史において、古今集は数多くの注釈書を生み出し、その注釈書はそれ自体の歴史ができるほどである [@kubota1960Kokin, 319]。\n",
    "注釈書に見られる多くの現代語訳は読者の和歌の理解を助けるために書かれており、翻訳家の翻訳目的は主に和歌の解釈を伝えるためである。\n",
    "近代については、必ずしも現代語とは言えないが、無視するわけにはいかないので、近代までの古今集の注釈の歴史を簡略に説明し、明治以後、注釈書掲載の現代語訳について考察する。\n",
    "\n",
    "近代 (1868年) 以前は多くの古今集の注釈書が出版された。近代前（1600年--1868年）の間に、70以上の注釈書が出版されている [@kojima1989Kokin, 447--450]。表 @tbl-annotation は近代前の著名な注釈書名を５つ示す。\n",
    "\n",
    "| 著者           | 成立年 | 注釈書名                |\n",
    "| -------------- | ------ | ----------------------- |\n",
    "| 北村季吟       | 1682   | 八代集抄               |\n",
    "| 契沖           | 1692   | 古今和歌集余材抄       |\n",
    "| 賀茂真淵       | 1784   | 古今和歌集打聴         |\n",
    "| 本居宣長       | 1793?  | 古今集遠鏡             |\n",
    "| 香川景樹       | 1832   | 古今和歌集正義         |\n",
    "\n",
    ":近代前（1600--1868）の古今集の代表的な注釈書 {#tbl-annotation}\n",
    "\n",
    "北村季吟の八代集抄は108巻（50冊）からなる八代集^[八代集とは古今集、後撰集、拾遺集、後拾遺集、金葉集、詞花集、千載集、新古今集の8つの勅撰集である。]の注釈書である。\n",
    "\n",
    "契沖（1640--1701）の古今和歌集余材抄は最初の実践的な古今集の研究書である[@ozawa1971Kikon, p. 36]。賀茂真淵（1697--1767）による古今和歌集打聴は基本的に契沖のものを継承したものである。しかし、賀茂真淵は新しい歌よりも万葉集のような古今以前の歌に焦点を当てている。\n",
    "\n",
    "本居宣長の古今和歌集遠鏡はすべての和歌を当時の口語に翻訳する試みである^[しかしながら、本居の翻訳意図は他の現代語の翻訳者のものとは少々異なっている。本居の意図は、古今集の注釈としてではなくて、純粋に人々に古今集がおもしろく価値のある文学であることを伝えようとしたところにあり、このことから本研究においてこの翻訳を他の翻訳者と同等に扱うことはできない。さらに、@shiozawa [1993] によると、遠鏡で使われている口語表現の実態、すなわち、どんな単語が使われているのか、どういう意味なのかがはっきりわかっているわけではないし、江戸時代の口語表現それ自身についても明らかになっているわけではないので、本研究で取り扱うことはできない。]。香川景樹（1768--1843）は「古今和歌集正義」でそれ以前の注釈書をかなり強い調子で批判している [@ozawa1971Kikon, p. 36; @matsuda1968Shinshaku, p. 58]。とはいえ、1868年以来の多くの注釈書は上記の注釈書の影響を多かれ少なかれ受けていることは確かである。\n",
    "\n",
    "現代になって正確にはわからないが、重版、改訂などを含めて古今集の注釈書は30あまり出版されているようである。\n",
    "\n",
    "以下に提示したように、古今集の注釈書、現代語訳に関連する著作は多数出版されている：\n",
    "\n",
    "1. 古今和歌集 岩波文庫 佐伯 梅友 -- 1981/1/16\n",
    "2. 新潮日本古典集成〈新装版〉 古今和歌集 (新潮日本古典集成 新装版) 奥村 恆哉 -- 2017/12/26\n",
    "3. 新版 古今和歌集 現代語訳付き (角川ソフィア文庫) 文庫 高田 祐彦 -- 2009/6/24\n",
    "4. 古今和歌集 ビギナーズ・クラシックス 日本の古典 (角川ソフィア文庫 81) 中島輝賢 -- 2007/4/25\n",
    "5. 古今和歌集全評釈 (上中下) (講談社学術文庫 2542) 第 1 巻 (全 3 冊): 古今和歌集全評釈 片桐 洋一 -- 2019/2/9\n",
    "6. 古今和歌集 (笠間文庫 原文 & 現代語訳シリーズ) 片桐 洋一 --\n",
    "7. 古今和歌集 新編日本古典文学全集 (11) 小沢 正夫、松田 成穂 -- 1994/10/25\n",
    "8. 古今和歌集 新潮日本古典集成 第 19 回奥村 恒哉 -- 1978/7/1\n",
    "9. 古今和歌集（全現代語訳付）窪田空穂、 水垣久 -- 2018/11/6\n",
    "10. 新訳 古今和歌集水垣久 -- 2020/4/2\n",
    "11. 新日本古典文学大系 5 古今和歌集小島 憲之、 新井 栄蔵 -- 1989/2/20\n",
    "12. 和歌文学大系 5 古今和歌集久保田 淳, 高野 晴代他 -- 2021/11/20\n",
    "13. 古今和歌集 1 (講談社学術文庫 432) 久曾神 昇 -- 1979/9/1\n",
    "14.【復刻版】西下経一「古今和歌集」―校注と解説 (響林社文庫) 西下経一、しみじみ朗読文庫 -- 2023/7/29\n",
    "15. 古今和歌集 ((全対訳 日本古典新書)) 片桐洋一 -- 1980/6/1 創英社 (三省堂書店) (1980/6/1)\n",
    "16. 古今和歌集 (角川文庫 黄 46-1) 窪田 章一郎 -- 1973/1/30"
   ]
  },
  {
   "cell_type": "markdown",
   "metadata": {},
   "source": [
    "## データ"
   ]
  },
  {
   "cell_type": "markdown",
   "metadata": {
    "jupyter": {
     "source_hidden": true
    }
   },
   "source": [
    "2000年代に入っても、多数出版されているが、これまでの可視化システムの研究において整備できたものは、比較的近代以後に出版された古今集の現代語訳である [@tbl-CT-data]。\n",
    "\n",
    "|     | 略   | 文献    | 底本 | トークン数  | タイプ数  | 文書数  |\n",
    "|-----|------|--------|------|------------:|----------:|---------:|\n",
    "| 1   | KNK  | @kaneko1933Kokin | 定家 | 42,439      | 3,356     | 1,000    |\n",
    "| 2   | KBT  | @kubota1960Kokin | 定家 | 32,210      | 2,701     | 1,000    |\n",
    "| 3   | MTD  | @matsuda1968Shinshaku | 定家 | 31,860      | 3,007     | 1,000    |\n",
    "| 4   | OZW  | @ozawa1971Kikon | 定家 | 36,173      | 3,384     | 1,000    |\n",
    "| 5   | TKOK | @takeoka1976Kokin | 定家 | 29,844      | 2,861     | 1,000    |\n",
    "| 6   | OKMR | @okumura1978Kokin | 定家 | 32,321      | 3,153     | 1,000    |\n",
    "| 7   | KSJ  | @kyusojin1979Kokin | 定家 | 34,050      | 2,770     | 1,000    |\n",
    "| 8   | KMCY | @komachiya1982Kokin | 定家 | 30,869      | 2,692     | 1,000    |\n",
    "| 9   | K&A  | @kojima1989Kokin | 定家 | 33,867      | 2,955     | 1,000    |\n",
    "| 10  | KTGR | @katagiri1998Kokinhyoshaku | 定家 | 36,362      | 2,882     | 1,000    |\n",
    "|     | 全体 |         |      | 339,995     | 8,252     | 10,000   |\n",
    "\n",
    ": 古今和歌集の短歌の20世紀の現代語訳10種 {#tbl-CT-data}\n",
    "\n",
    "残念ながら、古今集は905年頃成立と言えども、これらの注釈書から文字化されたデータは和歌の現代語訳の著作権は、もちろんのこと、校訂著作権、翻刻著作権などがあり、公にできず、それぞれの注釈書著者が古今集ついていかなる考え方に基づいて執筆したのかは、十分に述べられておらず、それら現代語訳の特徴について、詳細な分析は行なわれていない。本稿では、そのうち、著作権の消滅した @kaneko1933Kokin のデータを公開し、現代語 10 種を対象にその特徴を比較する。\n"
   ]
  },
  {
   "cell_type": "markdown",
   "metadata": {
    "jp-MarkdownHeadingCollapsed": true
   },
   "source": [
    "## データフォーマット\n"
   ]
  },
  {
   "cell_type": "markdown",
   "metadata": {
    "id": "dmUlouqqqSx_"
   },
   "source": [
    "# 方法"
   ]
  },
  {
   "cell_type": "markdown",
   "metadata": {},
   "source": [
    "## 文献調査による翻訳観の分類"
   ]
  },
  {
   "cell_type": "markdown",
   "metadata": {
    "id": "GAOUW7w3qVKg"
   },
   "source": [
    "前節で提示した 20 世紀の古今集の注釈書の著者の注釈方法、現代語訳執筆方針について文献調査を行い整理する。\n",
    "@Yamamoto2005Mathematical [p. 102] では、訳者の理論的考えを踏まえつつ、それぞれの現代語訳を実際に観察し、「逐語訳」「作者の意思の尊重」「字句を補う」「語順・語法を変える」「不詳」のように分類しているが、「作者の意思の尊重」は目標であり、その他は具体的な訳し方である、分類の視座が統一されていないため、本稿では、コミュニケーションの観点から翻訳の力点の置き方の分類を行う。それぞれの翻訳観に基づいて、意訳と直訳の意識についてまとめる。\n"
   ]
  },
  {
   "cell_type": "markdown",
   "metadata": {
    "id": "4hIaxIc7r9XS"
   },
   "source": [
    "## 追加率の計算"
   ]
  },
  {
   "cell_type": "markdown",
   "metadata": {},
   "source": [
    "それぞれの訳者が自身の翻訳方針にどこまで一貫して訳しているかについて、実際の歌語と訳語の一致率\n",
    "で計算する。一致率の計算は、要素の順序と重複を考慮しない集合演算による方法と、要素の順序と重複アライメントによる方法はあるが、ここではアライメントによる方法を用いる。具体的な手順は @Yamamoto2005Mathematical と @Yamamoto2019Analysis に詳しいが、本稿では先行研究で曖昧な部分を含め、計算のプロセスを明確にする。"
   ]
  },
  {
   "cell_type": "markdown",
   "metadata": {},
   "source": [
    "#### 旧分類語彙表番号 (旧WLSP) に基づくマッチングのカテゴリー化 {.unnumbered}\n",
    "\n",
    "歌語と現代語訳語の「一致・不一致」は、次の式のように、二語のメタコード（旧 WLSP 番号）の Longest common subsequence [@Sankoff1972Matching; @Traum2000Generation] の長さで $U$（不一致）, $G$（グループマッチ）, $F$（フィールドマッチ）, $E$（正確マッチ） 4 つにカテゴリ化ーする。\n",
    "\n",
    "$$\n",
    "\\text{match}(s,t) \\in\n",
    "\\begin{cases}\n",
    "U, & \\text{if } \\text{LCS}(s,t) < 10 \\\\\n",
    "G, & \\text{if } 10 \\leq \\text{LCS}(s,t) < 13 \\\\\n",
    "F, & \\text{if } 13 \\leq \\text{LCS}(s,t) < 17 \\\\\n",
    "E, & \\text{if } \\text{LCS}(s,t) \\geq 17 \\\\\n",
    "\\end{cases}\n",
    "$$\n",
    "\n",
    "この式では、$s$ はソーステキスト（和歌）における語のメタコードであり、$t$ はターゲットテキスト（現代語訳）における語のメタコードである。$\\text{LCS}(s,t)$ は $s$, $t$ 二語のメタコードの Longest common subsequence である。以下具体の分類例である。\n",
    "\n",
    "1. **Unmatch** ($\\text{match}(s,t) \\in U$; $\\text{LCS}(s,t)=4$):\n",
    "  - $s=$ `[BG-0]1-5520-20-0401` 梅 (plum)\n",
    "  - $t=$ `[BG-0]8-0061-07-010-A` の (of, genetive case)\n",
    "2. **Group match** ($\\text{match}(s,t) \\in G$; $\\text{LCS}(s,t)=11$):\n",
    "  - $s=$ `[BG-01-5520-]20-0401` 梅 (plum)\n",
    "  - $t=$ `[BG-01-5520-]19-115-A` 秋萩 (autumn *Lespedeza*)\n",
    "3. **Field match** ($\\text{match}(s,t) \\in F$; $\\text{LCS}(s,t)=11$):\n",
    "  - $s=$ `[BG-01-2030-01-]0300` 神 (god)\n",
    "  - $t=$ `[BG-01-2030-01-]030-A` 仏 (Buddha)\n",
    "4. **Exact match** ($\\text{match}(s,t) \\in E$; $\\text{LCS}(s,t)=17$):\n",
    "  - $s=$ `[BG-01-5520-20-040]1` 梅 (plum)\n",
    "  - $t=$ `[BG-01-5520-20-040]-A` 梅 (plum)"
   ]
  },
  {
   "cell_type": "markdown",
   "metadata": {},
   "source": [
    "#### バッグ法による追加率の計算 {.unnumbered}\n",
    "\n",
    "バッグ法による追加率（現代語訳における和歌原文に対する追加要素の割合）は、2 つのテキストを 2 つの集合と見做し、それらの集合における一致語の量をもとに計算する。ソーステキスト（和歌）$S=(s_i)_{i \\in \\mathbb{Z}}$ とターゲットテキスト（現代語訳） $T=(t_i)_{i \\in \\mathbb{Z}}$ が与えられた時、2 テキストのターゲットテキストにおける追加率の計算は下記に従う。\n",
    "\n",
    "$$\n",
    "\\text{U}_{T}(S,T) = 1 - \\text{agreement}\n",
    "$$\n",
    "$$\n",
    "\\text{agreement}_{T}(S,T) = \\frac{1}{|T|}\\sum_{s_i}^{|s|} \\max_{t_j \\in T} \\text{score}(t_i, s_j)\n",
    "$$\n",
    "\n",
    "$\\text{agreement}_{T}(S,T)$ は、ターゲットテキストに対しての 2 テキストの non-repetive な一致語の割合である。これを一致率と定義する。この一致率は、以下のスコーア関数 $\\text{score}(s,t)$^[本稿では、1/0 の 2 値として定義する。「2 語の一致」の 3 つのカテゴリーの中でどのレベルで一致と見るか、といった一致率の計算の厳しさを調整できる。] に基づいて計算される。ここではどのレベルにも原文の要素と対応のないの要素の追加率を計算するので、2 語がいずれのレベルに一致すれば 1 とカウントする（下記参照）。\n",
    "\n",
    "$$\n",
    "\\text{score}(s,t) =\n",
    "\\begin{cases}\n",
    "0, & \\text{if } \\text{match}(s,t) \\in U \\\\\n",
    "1, & \\text{if } \\text{match}(s,t) \\in G \\\\\n",
    "1, & \\text{if } \\text{match}(s,t) \\in F \\\\\n",
    "1, & \\text{if } \\text{match}(s,t) \\in E \\\\\n",
    "\\end{cases}\n",
    "$$\n",
    "\n",
    "$|T|$ はターゲットテキストの長さを指し、$s_i$, $t_i$ はそれぞれソーステキスト、ターゲットテキストの $i$ 番目と $j$ 番目の要素を意味する。追加率は $1 - \\text{agreement}$ で計算する。\n",
    "\n",
    "バッグ法で計算された追加率は、統計分析に用いる（詳しくは次節参照）。"
   ]
  },
  {
   "cell_type": "markdown",
   "metadata": {
    "jp-MarkdownHeadingCollapsed": true
   },
   "source": [
    "#### 整列法による追加率の計算 {.unnumbered}\n",
    "\n",
    "整列法について説明する。整列法は、動的計画法に基づく。本稿では、動的計画法を用いて 2 つのシーケンス間のアライメントを計算するためのスコーア関数の具体的な式は以下の通りである。\n",
    "\n",
    "$$\n",
    "\\text{S}_{\\text{DP}}(i, j) =\n",
    "\\begin{cases}\n",
    "0 & \\text{if } i = 0 \\text{ or } j = 0 \\\\\n",
    "\\max\n",
    "\\begin{cases}\n",
    "\\text{S}_{\\text{DP}}(i-1, j) + \\text{gap} \\\\\n",
    "\\text{S}_{\\text{DP}}(i-1, j-1) + \\text{score}(s_i, t_j) \\\\\n",
    "\\text{S}_{\\text{DP}}(i, j-1) + \\text{gap}\n",
    "\\end{cases} & i > 0 \\text{ and } j > 0\n",
    "\\end{cases}\n",
    "$$\n",
    "\n",
    "ソーステキストのシーケンス $S$ とターゲットテキストのシーケンス $T$ の部分列を用いて、位置 $i$ および $j$ までの最適なアライメントスコア $\\text{S}_{\\text{DP}}(i,j)$ を再帰的に計算する。スコーア関数 $\\text{score}(s,t)$ はバッグ法と同様に設定する。gap はギャップ（空白）を挿入する際に加算されるペナルティ (gap panelty) であり、ここでは便宜上 $-1$ と設定する。この式に基づき、プログラムは最尤なアライメントを探索する。整列した結果の例は次のようになる。ソーステキストにギャップが挿入さら、一致する語同士が配列される。\n",
    "\n",
    "```\n",
    ">|立田姫ーー手向けるーーーー神のあれば【こそ】ーーー秋の木の葉のーーー幣とーーー散るーーーーらめ  [Kokinshu 298]\n",
    ">|竜田姫は、手向けをするべき神があるので、そのつかさどる秋の木の葉が、幣のように散るのであろうよ。[@kubota1960Kokin]\n",
    "```\n",
    "\n",
    "この基礎の上で、一致率と追加率を計算する。整列後の $S^{\\prime}$ と $T^{\\prime}$ がある^[ここでは、もちろん $|S^{\\prime}| = |T^{\\prime}$|]として、整列法による一致率 $\\text{agreement}^{\\prime}_{T}(S^{\\prime},T^{\\prime})$ の計算は次に示す。\n",
    "\n",
    "$$\n",
    "\\text{U}^{\\prime}_{T}(S,T) = 1-\\text{agreement}^{\\prime}_{T}(S^{\\prime},T^{\\prime})\n",
    "$$\n",
    "$$\n",
    "\\text{agreement}^{\\prime}_{T}(S^{\\prime},T^{\\prime}) = \\frac{1}{|T|}\\sum_{i}^{|T|} \\text{score}(s^{\\prime}_i, t^{\\prime}_i)\n",
    "$$\n",
    "\n",
    "うち、prime ($\\prime$) 記号がついているものは整列後のテキストにおけるものである。動的計画法が和歌の翻訳における語順の交換などの site swap に弱いため、整列法で計算される追加率は、全体的に統計的に分析せず、ケーススターディの説明において提示する。"
   ]
  },
  {
   "cell_type": "markdown",
   "metadata": {
    "id": "9qo5ntdkx5qF"
   },
   "source": [
    "## 翻訳観と追加率の関係に関する統計モデリング"
   ]
  },
  {
   "cell_type": "markdown",
   "metadata": {},
   "source": [
    "先行研究では概念・フィールド・同義レベルの一致率（言い換え率）、理論的・実験的追加率などの多くの指標を計算しているが、本稿では、実験的追加率をを対象に、前節の分類結果に基づきより精緻な統計分析を行う。\n",
    "\n",
    "訳者の翻訳観が実践に移り、実際の現代語訳における追加率に影響を与えているかどうかを確認するために、統計モデリングを行った。具体的には、翻訳観（`policy`）が追加率（`additional_rate`）^[ここでは、バッグ法によって算出された追加率を用いる。] に与える影響を検討するために、ベータ分布^[被説明変数がベータ分布に近似すると観測されている。] に基づく回帰モデルを採用した。このモデルは、訳者（`translator`）と歌（`poem`）のランダム効果も考慮し、これらの要因が追加率に与える潜在的な影響を制御するものである。\n",
    "\n",
    "$$\n",
    "y_i \\sim \\text{Beta}(\\mu_i \\phi, (1 - \\mu_i) \\phi)\n",
    "$$\n",
    "$$\n",
    "\\mu_i = \\text{logit}^{-1}(\\eta_i) = \\frac{1}{1 + e^{-\\eta_i}}\n",
    "$$\n",
    "$$\n",
    "\\eta_i = \\beta_0 + \\beta_{\\text{policy}} \\cdot \\text{policy}_i + u_{\\text{translator}_i} + u_{\\text{poem}_i}\n",
    "$$\n",
    "$$\n",
    "\\beta_0, \\beta_{\\text{policy}} \\sim \\mathcal{N}(0, 1)\n",
    "$$\n",
    "$$\n",
    "u_{\\text{translator}_i} \\sim \\mathcal{N}(0, \\sigma_{\\text{translator}}^2)\n",
    "$$\n",
    "$$\n",
    "u_{\\text{poem}_i} \\sim \\mathcal{N}(0, \\sigma_{\\text{poem}}^2)\n",
    "$$\n",
    "$$\n",
    "\\sigma_{\\text{translator}}, \\sigma_{\\text{poem}} \\sim \\text{Cauchy}(0, 1)\n",
    "$$\n",
    "$$\n",
    "\\phi \\sim \\text{Cauchy}(0, 1)\n",
    "$$\n",
    "\n",
    "ここで：\n",
    "\n",
    "- $y_i$ は追加率であり、ベータ分布に従う。\n",
    "- $\\mu_i$ は応答変数の平均値であり、線形予測子 $\\eta_i$ をロジスティック変換することで得られる。\n",
    "- $\\eta_i$ は線形予測子であり、翻訳観の固定効果、訳者、歌のランダム効果を含む。\n",
    "- $\\beta_0$ は切片であり、追加率の平均を示す。\n",
    "- $\\beta_{\\text{policy}}$ は翻訳観の回帰係数であり、翻訳観が追加率に与える固定効果を評価する。\n",
    "- $u_{\\text{translator}_i}$ は訳者のランダム効果であり、訳者間の変動を制御する。これは正規分布に従うと仮定する。\n",
    "- $u_{\\text{poem}_i}$ は歌のランダム効果であり、歌間の変動を制御する。これは正規分布に従うと仮定する。\n",
    "- $\\sigma_{\\text{translator}}$, $\\sigma_{\\text{poem}}$ は訳者および歌のランダム効果の標準偏差であり、コーシー分布に従う。\n",
    "- $\\phi$ はベータ分布の精度パラメータであり、コーシー分布に従う。\n",
    "\n",
    "モデルの推定は、ベイズ推論に基づくMarkov Chain Monte Carlo (MCMC) 法を用いて実施する。具体的には、4 つのチェーンを使用し、各チェーンで 4000 回のイテレーションを行い、そのうち 1000 回をウォームアップ (burn-in) 期間として設定する。`brms`パッケージを用いてモデルを実装し、事後分布の収束性は R-hat 指標および有効サンプルサイズ (ESS) によって診断する。モデル結果では、翻訳観が追加率に与える影響を示し、事後平均、95%事後最狭信用区間 (posterior highest credible interval) 報告する。"
   ]
  },
  {
   "cell_type": "markdown",
   "metadata": {
    "id": "h0nMqDyDsKjK"
   },
   "source": [
    "## 拡張意味単位モデル (extended unit of meaning)"
   ]
  },
  {
   "cell_type": "markdown",
   "metadata": {},
   "source": [
    "和歌に対する現代語訳は、なんらかの言い換えと追加を行っていることが分っても、その追加要素や言い換え要素の性格がわかっているわけではない。\n",
    "\n",
    "これら要素の性格は、コーパス言語学の視点から分析する。本稿では @Sinclair1996Search の拡張意味単位モデルの視座を採用し、和歌の原文に観測されている拡意味単位モデルが現代語訳でどのように処理されているか、辞書の記述とどのように異なるかを確認する。"
   ]
  },
  {
   "cell_type": "markdown",
   "metadata": {},
   "source": [
    "### 拡張意味単位モデル"
   ]
  },
  {
   "cell_type": "markdown",
   "metadata": {},
   "source": [
    "意味の拡張単位モデルでは、意味の単位を以下の五つの要素に分けている [@Sinclair1996Search]。@Sinclair1996Search は *true feeling* から「(not) [EXPRESS] [one's] *true feeling*」といった意味の拡張単位を抽出している例とりあげているので、この例で要素について @tbl-EUoM にまとめ説明する:\n",
    "\n",
    "| 要素                | 説明                                                    | 例                                                                                          | 方法                                |\n",
    "|:--------------------|:--------------------------------------------------------|:--------------------------------------------------------------------------------------------|:------------------------------------|\n",
    "| コア（core）        | 拡張意味単位における不変の成分                            | *true feeling*                                                                              | 検索語・フレーズとして使用。         |\n",
    "| コロケーション（collocation） | コアと語の共出現                                      | 高頻度共出現語 (*their*, *express*, *hide*, *reveal*) + *true feeling*                      | span $\\pm$ 4、出現率50%以上。       |\n",
    "| 類連結（colligation）     | コアとグラマティカル・パターンとの共出現                | 所有格形容詞 (*thier/his/her/our*) + *true feeling*                                        | コンコーダンスによる観測・帰納。    |\n",
    "| 意味的志向（semantic preference） | コアと特定の意味の語群との共出現                        | **(not)EXPRESS** (*express/hide/reveal/conceal*) + *true feeling*                          | コンコーダンスによる観測・帰納。    |\n",
    "| 談話韻律（discourse prosody）    | 拡張意味単位全体の評価・態度・語用論的意味               | 否定語 + **EXPRESS** -> 「客観的・主観的できない」（reluctance/inability）                        | コンコーダンスによる観測・帰納。    |\n",
    "\n",
    ": 拡張意味単位の要素、説明、事例、操作例 {#tbl-EUoM}\n",
    "\n",
    "1. コア（core）は拡張意味単位における不変の成分である [@Sinclair2004Trust, p. 204]。*true feeling* がこの例におけるコアであり、検索語として使用されている。^[@Sinclair1996Search の例では、コアは実際には検索語に相当するものである。]\n",
    "2. コロケーション（collocation）：コアと語の共出現関係である [@Sinclair1970English, p. 15]。*true feeling* のコンテキストでは、*their*, *express*, *hide*, *reveal* などがあげられる。@Sinclair1996Search では、コンテキストのウィンドーは 4 に、閾値は 50% の出現率に設定されている。^[@Koller2004Computer はにすべきであるとしている。]\n",
    "3. 類連結（colligation）はコアとグラマティカル・パターンとの共出現関係である [cf., @Firth1968Selected, p. 183; @Sinclair1996Search, p. 11; @Sinclair2003Reading, p. 171]。例えば、*true feeling* の前方共出現に *thier/his/her/our* が多く、それらの性質は所有格形容詞であるため、所有格形容詞が *true feeling* の類連接と認める。この類連接は直接の観測ができないため、コンコーダンス・コロケーションリストによる観測・帰納に基づく。\n",
    "4. 意味的志向（semantic preference）はコアと特定の意味の語群（semantic set）との共出現関係 [@Sinclair2003Reading, p. 178]。例えば、*express/hide/reveal/conceal* など **EXPRESS** まとは **EXPRESS** の否定のグループが常に *true feeling* のコンテキストに生起している。この意味的志向も類連接同様、コンコーダンス・コロケーションリストによる観測・帰納に基づく。\n",
    "5. 談話韻律（discourse prosody）は拡張意味単位全体の評価・態度・語用論的意味 [@Sinclair2004Trust, p. 174]である。**EXPRESS**の左には*less/not*などの否定が頻繁に出現するため、*true feeling* については「客観的・主観的に表現できない」（reluctance/inability）といったネガティブな談話韻律が推測される。これも同様、コンコーダンス・コロケーションリストによる観測・帰納による。\n",
    "\n",
    "コア、コロケーションから談話韻律へと、直接な観測ができなくなり、明示的でなくなっていく [@Stubbs2001Words, pp. 87--88]。"
   ]
  },
  {
   "cell_type": "markdown",
   "metadata": {},
   "source": [
    "### 本稿のアダプテーション"
   ]
  },
  {
   "cell_type": "markdown",
   "metadata": {},
   "source": [
    "本稿では、和歌の性質とデータの量の問題点を踏まえいくつかのアダプテーションをする：\n",
    "\n",
    "1. 順序の設定はしない。57577の制限の中で、語の順番の入れ替えが多く、コアを中心とする線形配列がまれであり、open frame が望ましい。\n",
    "2. 出現率の閾値の設定はしない。テキストの数が少なく、大規模コーパスのようにソリッドな結果として出すよりも、傾向について重視すべき一面がある。\n",
    "3. 事後に語の類型の帰納ではなく、抽出する前にアノテーションを行う。"
   ]
  },
  {
   "cell_type": "markdown",
   "metadata": {
    "id": "VQsEZ851LKQJ"
   },
   "source": [
    "# 結果"
   ]
  },
  {
   "cell_type": "markdown",
   "metadata": {
    "id": "SBUFOVCQLNWS"
   },
   "source": [
    "## 現代語訳の整理と分類"
   ]
  },
  {
   "cell_type": "markdown",
   "metadata": {},
   "source": [
    "### 分類：コミュニケーションの力点の置き方"
   ]
  },
  {
   "cell_type": "markdown",
   "metadata": {},
   "source": [
    "注釈書に記されている翻訳の方針に基づき、10 人の翻訳観をコミュニケーションの主体への視座の置き方に基づき、3 類に分類された：\n",
    "\n",
    "1. テキストの字義を重視する方針： @kaneko1933Kokin; @kubota1960Kokin; @katagiri1998Kokinhyoshaku\n",
    "2. 作者の意図を重視する方針： @okumura1978Kokin; @takeoka1976Kokin\n",
    "3. 読者の理解を重視する方針： @ozawa1971Kikon; @kyusojin1979Kokin\n",
    "4. 不明・その他の方針： @matsuda1968Shinshaku; @kojima1989Kokin; @komachiya1982Kokin\n",
    "\n",
    "この中で、原文の字義を重視する翻訳観は、もっとも逐語訳に拘っている。作者の意図・感受を重視する・読者の理解を重視する翻訳観では、多少の語と語順の入れ替え、語句の補いを許容しているように述べている。"
   ]
  },
  {
   "cell_type": "markdown",
   "metadata": {},
   "source": [
    "::: {.callout-important title=\"Add communication model figure\"}\n",
    "@Schramm1954Process などにおいての力点の置き方が異なる。\n",
    ":::"
   ]
  },
  {
   "cell_type": "markdown",
   "metadata": {},
   "source": [
    "### 分類ごとの翻訳観の詳細"
   ]
  },
  {
   "cell_type": "markdown",
   "metadata": {},
   "source": [
    "#### Text-orientated {.unbumbered}\n",
    "\n",
    "このグープの訳者は、原文に忠実に翻訳することを重視し、できるだけ語順や意味を変えずに翻訳を行う。\n",
    "@kaneko1933Kokin は「逐語訳」に徹し、語を加えたり、削除することを避けており、慎重に翻訳していると述べている。\n",
    "@kaneko1933Kokin は歌の意をそこねたり、調をあやまったりすることを恐れて、鏡花水月の訳法（あからさまに説明せず、ただその姿を眼前に思い浮ばせるようにする漢文の表現法）に従ひ、きわめて小心に、一字一語の出入をもゆるがせにせぬことを期したことを述べている。また、文体的には、金子の翻訳調はたとえば「くずをれる」のような古めかしいことばをわざと翻訳に入れるところなど、本居宣長の「遠鏡」に似ている。\n",
    "@kubota1960Kokin は、現代語訳の方針について、逐語訳にこだわり、語順を変えたり、新しい語を加えることを避けていると述べている。\n",
    "@katagiri1998Kokinhyoshaku も同様に、逐語訳を行い、和歌の省略や長大な増補を避け、可能な限り忠実に現代語訳している。"
   ]
  },
  {
   "cell_type": "markdown",
   "metadata": {},
   "source": [
    "#### Intension-orientated {.unnumbered}\n",
    "\n",
    "このグループでは、逐語訳に拘らず、表面的な意味よりも、原文の意図と感受性を重視する群である。\n",
    "@okumura1978Kokin [p. 7] は「口語訳は、原歌の言葉づかいや言い廻しを尊重し、一首の意味を厳密に解釈するより、基本的な作意をまず感じとってもらうことに重点をおいた」としている。原文の意図の理解を重視し、逐語訳よりも作意を優先して翻訳している。\n",
    "@takeoka1976Kokin [p. 21] は、訳(口語訳)は原文の「筋」の紹介や解説の類ではなく，作者の認識のしかた・感じ方をあらゆる面より明らかにしたのち、それ現代語に存在する同じあるいは極力それに近似した認識のしかた、感じ方の表現にそっくりうつしかえることをいう。つまり、原作の逐語的に訳すのではまく、感受性の保持に重点を置きながら言い換えを積極的に用いる。具体的な現代語訳の方針としては、@takeoka1976Kokin [pp. 11--12] は、次のような独自の理論を提案している。\n",
    "$$\n",
    "S=\\left[\\left(a+b+c+\\dots+n\\right)\\times X \\right]\\times Y\n",
    "$$\n",
    "ただし、$S$ は翻訳された文、$a, b, c, \\dots, n$ のそれぞれは単語、$X$ は翻訳に含まれる要素、$Y$ は翻訳に効果的に加えられた要素である。$a,b,c, \\dots, n$ それぞれの一般的普遍的意義は辞書で理解でき、それぞれの $+$ のしかたに相当するものは文法書を参照すれば了解できる」としている。@takeoka1976Kokin [p. 11] は $Y$ はふつうは 0 の値であるが、和歌にはいくつか効果的な要素が含まれる時、翻訳者は $Y$ に何らかの値、たとえば終助詞（わ、ね、よ）のようなものを付け加わえる。したがって、現代語訳作成のための重要な変数は $X$ となる。その $X$ は、語句の分割、対応する適切な現代語、語順、助詞・接続詞を含めた訳語、文の構造、話の流れ（談話）、場面の７つに分類されるとしている。このように、歌の筋より作者の意図を細部まで還元することを強調していると捉えられる。^[契沖の「古今和歌集余材抄」以来のの 7 種の注釈書の注を統合したはじめてのものである。竹岡はこの注釈書にて文学研究に分析的アプローチを組み込んでいる。竹岡は賀茂真淵、香川景樹の仕事を分析に根拠がないとして同意できないとしている一方で、契沖、本居宣長、富士谷成章 (1738–79) らの注釈を評価している。加えて、特に古典文法、語彙の観点から 7 種すべての古注間の違いについて慎重に議論している。]"
   ]
  },
  {
   "cell_type": "markdown",
   "metadata": {},
   "source": [
    "#### Readability-orientated {.unnumbered}\n",
    "\n",
    "このグループの訳者は、原文に忠実であることよりも、読者の内容の理解や解釈を読者に伝えることを重視している。そのため、語順を変えたり、新しい語を加えることもある。\n",
    "@ozawa1971Kikon は原作の語順・語法を変更することをいとわず、読者が理解しやすいように内容を優先した翻訳を行っている。 @ozawa1971Kikon [p. 46] は「口語訳はそれだけ独立しても意味がよくわかるように努めたので、時には原作の語順・語法を変えている」と述べており、逐語訳よりも内容の理解の方に力点が置かれている。\n",
    "@kyusojin1979Kokin は、平易な口語訳を採用し、必要に応じて語句を補っており、解釈を重視した翻訳を行っている。現代語訳の方針としては「歌意は、歌句に基づく平易な口語訳としたが、必要と思われる場合は字句を補った」と述べている [@kyusojin1979Kokin, p.6]。"
   ]
  },
  {
   "cell_type": "markdown",
   "metadata": {},
   "source": [
    "#### 不詳 {.unnumbered}\n",
    "\n",
    "現代語訳の方針について、 @komachiya1982Kokin, @matsuda1968Shinshaku, @kojima1989Kokin は明確に述べていない。\n",
    "\n",
    "うち、 @matsuda1968Shinshaku の現代語訳は他の 10 名の共同執筆者によって作られている。この注釈書冒頭のの解説には、現代語訳は今までの研究にしたがって作られたとは述べているものの、10 名の共著者の間での翻訳の共通認識、作成方針は明らかに述べられていない。また、松田は古今集の和歌について、歌人の感情についてだけでなく、選者の編集意識についても、解釈にも含めようとしていると述べている [@matsuda1968Shinshaku, p. 9]。各歌の後に、順次、「通釈」「語釈」「古注」「評」の項目を設け、解釈・鑑賞などが記されている。\n",
    "@kojima1989Kokin の特色の一つは注釈は江戸期 (1600–1868) だけでなく、これまでの注釈書では無視されてきた中世期 (1392–1600) に作られた注釈も取り入れていることである (pp. 481--482)。また、万葉集の和歌と用語が対比されて引用されている (小島・新井 1989: 480)。各歌の注釈としては「歌番号」「大意」「語句の注」「参考事項」の順で述べられている。他の注釈本と比べてさほど量的に違いはないが、付録にはさまざまな資料が含まれており、付録だけで本の 30 パーセントを占めているほどである。"
   ]
  },
  {
   "cell_type": "markdown",
   "metadata": {},
   "source": [
    "#### まとめ {.unnumbered}\n",
    "\n",
    "それぞれの翻訳の方針を見る限り、ほとんどの作者が逐語訳を基本に原文の意味を変えない翻訳を試みているが、力点の置き方が若干異なっている。本稿では、「テキストの字義を重視」「作者の意図・感受の解釈を重視」「読者の理解を重視」「不詳」のようにコミュニケーションの観点から分類を行った。この中で、原文の字義を重視する翻訳観は、もっとも逐語訳に拘っている。作者の意図・感受を重視する・読者の理解を重視する翻訳観では、多少の語と語順の入れ替え、語句の補いを許容している。ただし、この分類は、もちろんのこと、互いに重なる部分もあるが予想される。"
   ]
  },
  {
   "cell_type": "markdown",
   "metadata": {
    "id": "WEBy7VtDMG7V"
   },
   "source": [
    "## 追加率の計算結果"
   ]
  },
  {
   "cell_type": "code",
   "execution_count": 13,
   "metadata": {},
   "outputs": [
    {
     "data": {
      "text/html": [
       "<style>\n",
       ".list-inline {list-style: none; margin:0; padding: 0}\n",
       ".list-inline>li {display: inline-block}\n",
       ".list-inline>li:not(:last-child)::after {content: \"\\00b7\"; padding: 0 .5ex}\n",
       "</style>\n",
       "<ol class=list-inline><li>'CALC kaneko 0001 OP=21 0.76:0.24:0.00 1.00(0.00) CT=36 0.44:0.56 0.14:0.00:0.42 0.42(0.00)'</li><li>'CALC kaneko 0002 OP=18 0.50:0.22:0.06 0.78(0.22) CT=47 0.19:0.81 0.11:0.16:0.55 0.62(0.07)'</li><li>'CALC kaneko 0003 OP=16 0.69:0.12:0.06 0.88(0.12) CT=39 0.28:0.72 0.08:0.08:0.56 0.59(0.03)'</li><li>'CALC kaneko 0004 OP=18 0.50:0.22:0.00 0.72(0.28) CT=36 0.25:0.75 0.11:0.18:0.46 0.50(0.04)'</li><li>'CALC kaneko 0005 OP=16 0.69:0.19:0.12 1.00(0.00) CT=32 0.38:0.62 0.16:0.00:0.47 0.50(0.03)'</li><li>'CALC kaneko 0006 OP=17 0.47:0.18:0.06 0.71(0.29) CT=42 0.19:0.81 0.12:0.20:0.49 0.60(0.11)'</li></ol>\n"
      ],
      "text/latex": [
       "\\begin{enumerate*}\n",
       "\\item 'CALC kaneko 0001 OP=21 0.76:0.24:0.00 1.00(0.00) CT=36 0.44:0.56 0.14:0.00:0.42 0.42(0.00)'\n",
       "\\item 'CALC kaneko 0002 OP=18 0.50:0.22:0.06 0.78(0.22) CT=47 0.19:0.81 0.11:0.16:0.55 0.62(0.07)'\n",
       "\\item 'CALC kaneko 0003 OP=16 0.69:0.12:0.06 0.88(0.12) CT=39 0.28:0.72 0.08:0.08:0.56 0.59(0.03)'\n",
       "\\item 'CALC kaneko 0004 OP=18 0.50:0.22:0.00 0.72(0.28) CT=36 0.25:0.75 0.11:0.18:0.46 0.50(0.04)'\n",
       "\\item 'CALC kaneko 0005 OP=16 0.69:0.19:0.12 1.00(0.00) CT=32 0.38:0.62 0.16:0.00:0.47 0.50(0.03)'\n",
       "\\item 'CALC kaneko 0006 OP=17 0.47:0.18:0.06 0.71(0.29) CT=42 0.19:0.81 0.12:0.20:0.49 0.60(0.11)'\n",
       "\\end{enumerate*}\n"
      ],
      "text/markdown": [
       "1. 'CALC kaneko 0001 OP=21 0.76:0.24:0.00 1.00(0.00) CT=36 0.44:0.56 0.14:0.00:0.42 0.42(0.00)'\n",
       "2. 'CALC kaneko 0002 OP=18 0.50:0.22:0.06 0.78(0.22) CT=47 0.19:0.81 0.11:0.16:0.55 0.62(0.07)'\n",
       "3. 'CALC kaneko 0003 OP=16 0.69:0.12:0.06 0.88(0.12) CT=39 0.28:0.72 0.08:0.08:0.56 0.59(0.03)'\n",
       "4. 'CALC kaneko 0004 OP=18 0.50:0.22:0.00 0.72(0.28) CT=36 0.25:0.75 0.11:0.18:0.46 0.50(0.04)'\n",
       "5. 'CALC kaneko 0005 OP=16 0.69:0.19:0.12 1.00(0.00) CT=32 0.38:0.62 0.16:0.00:0.47 0.50(0.03)'\n",
       "6. 'CALC kaneko 0006 OP=17 0.47:0.18:0.06 0.71(0.29) CT=42 0.19:0.81 0.12:0.20:0.49 0.60(0.11)'\n",
       "\n",
       "\n"
      ],
      "text/plain": [
       "[1] \"CALC kaneko 0001 OP=21 0.76:0.24:0.00 1.00(0.00) CT=36 0.44:0.56 0.14:0.00:0.42 0.42(0.00)\"\n",
       "[2] \"CALC kaneko 0002 OP=18 0.50:0.22:0.06 0.78(0.22) CT=47 0.19:0.81 0.11:0.16:0.55 0.62(0.07)\"\n",
       "[3] \"CALC kaneko 0003 OP=16 0.69:0.12:0.06 0.88(0.12) CT=39 0.28:0.72 0.08:0.08:0.56 0.59(0.03)\"\n",
       "[4] \"CALC kaneko 0004 OP=18 0.50:0.22:0.00 0.72(0.28) CT=36 0.25:0.75 0.11:0.18:0.46 0.50(0.04)\"\n",
       "[5] \"CALC kaneko 0005 OP=16 0.69:0.19:0.12 1.00(0.00) CT=32 0.38:0.62 0.16:0.00:0.47 0.50(0.03)\"\n",
       "[6] \"CALC kaneko 0006 OP=17 0.47:0.18:0.06 0.71(0.29) CT=42 0.19:0.81 0.12:0.20:0.49 0.60(0.11)\""
      ]
     },
     "metadata": {},
     "output_type": "display_data"
    }
   ],
   "source": [
    "#| label: data-raw\n",
    "system(\n",
    "  \"\n",
    "    cat ./data/calcResidual/gistfile1.txt | head -n 6\n",
    "  \",\n",
    "  intern = TRUE\n",
    ")"
   ]
  },
  {
   "cell_type": "code",
   "execution_count": null,
   "metadata": {},
   "outputs": [],
   "source": []
  },
  {
   "cell_type": "markdown",
   "metadata": {
    "id": "E8jt0n-tLR1B"
   },
   "source": [
    "## 統計モデルの推定結果\n",
    "\n",
    "### 翻訳観による追加率の違い\n",
    "\n",
    "### 和歌のランダム効果\n",
    "\n",
    "### 訳者のランダム効果"
   ]
  },
  {
   "cell_type": "markdown",
   "metadata": {
    "id": "U5RB-oMVLavv"
   },
   "source": [
    "## 拡張意味単位の対応：「立田」の場合\n",
    "\n",
    "### 「立田」の拡張意味単位：「立田+自然物+余韻結び」\n",
    "\n",
    "#### コロケーション\n",
    "\n",
    "#### コリゲーション\n",
    "\n",
    "#### 意味的志向\n",
    "\n",
    "#### 談話韻律\n",
    "\n",
    "### 辞書の対応\n",
    "\n",
    "### 現代語訳の対応"
   ]
  },
  {
   "cell_type": "markdown",
   "metadata": {
    "id": "uEyca8zfM3Se"
   },
   "source": [
    "# 考察"
   ]
  },
  {
   "cell_type": "markdown",
   "metadata": {
    "id": "b0-FkFo-M6lV"
   },
   "source": [
    "## 追加率には翻訳観に左右されない部分がある"
   ]
  },
  {
   "cell_type": "markdown",
   "metadata": {
    "id": "1NwChWI2NJC_"
   },
   "source": [
    "## 現代語訳によるノンリテラル要素の可視化が十分考えられる"
   ]
  },
  {
   "cell_type": "markdown",
   "metadata": {
    "id": "9H7e4F3FNpsL"
   },
   "source": [
    "## 拡張意味単位の現代語訳の可視化としてのシステム"
   ]
  },
  {
   "cell_type": "markdown",
   "metadata": {
    "id": "X2dD_dGCN_KN"
   },
   "source": [
    "## 分類体系の有用性"
   ]
  },
  {
   "cell_type": "markdown",
   "metadata": {
    "id": "4f1HaAaoNgcq"
   },
   "source": [
    "# 結論"
   ]
  },
  {
   "cell_type": "markdown",
   "metadata": {
    "id": "gwemRKQ1dYYT"
   },
   "source": [
    "## Libraries"
   ]
  },
  {
   "cell_type": "code",
   "execution_count": null,
   "metadata": {
    "colab": {
     "base_uri": "https://localhost:8080/"
    },
    "collapsed": true,
    "id": "OPA4oRHE0hVF",
    "jupyter": {
     "outputs_hidden": true
    },
    "outputId": "7ea141f5-5e0f-4b8a-ccef-cc4b705c3ffb"
   },
   "outputs": [
    {
     "name": "stdout",
     "output_type": "stream",
     "text": [
      "Reading package lists... Done\n",
      "Building dependency tree... Done\n",
      "Reading state information... Done\n",
      "The following additional packages will be installed:\n",
      "  libplot2c2\n",
      "Suggested packages:\n",
      "  gsfonts\n",
      "The following NEW packages will be installed:\n",
      "  libplot2c2 plotutils\n",
      "0 upgraded, 2 newly installed, 0 to remove and 45 not upgraded.\n",
      "Need to get 1,117 kB of archives.\n",
      "After this operation, 4,139 kB of additional disk space will be used.\n",
      "Get:1 http://archive.ubuntu.com/ubuntu jammy/universe amd64 libplot2c2 amd64 2.6-11 [506 kB]\n",
      "Get:2 http://archive.ubuntu.com/ubuntu jammy/universe amd64 plotutils amd64 2.6-11 [611 kB]\n",
      "Fetched 1,117 kB in 1s (779 kB/s)\n",
      "Selecting previously unselected package libplot2c2:amd64.\n",
      "(Reading database ... 123594 files and directories currently installed.)\n",
      "Preparing to unpack .../libplot2c2_2.6-11_amd64.deb ...\n",
      "Unpacking libplot2c2:amd64 (2.6-11) ...\n",
      "Selecting previously unselected package plotutils.\n",
      "Preparing to unpack .../plotutils_2.6-11_amd64.deb ...\n",
      "Unpacking plotutils (2.6-11) ...\n",
      "Setting up libplot2c2:amd64 (2.6-11) ...\n",
      "Setting up plotutils (2.6-11) ...\n",
      "Processing triggers for man-db (2.10.2-1) ...\n",
      "Processing triggers for libc-bin (2.35-0ubuntu3.4) ...\n",
      "/sbin/ldconfig.real: /usr/local/lib/libur_adapter_opencl.so.0 is not a symbolic link\n",
      "\n",
      "/sbin/ldconfig.real: /usr/local/lib/libtbbmalloc_proxy.so.2 is not a symbolic link\n",
      "\n",
      "/sbin/ldconfig.real: /usr/local/lib/libtbbbind_2_0.so.3 is not a symbolic link\n",
      "\n",
      "/sbin/ldconfig.real: /usr/local/lib/libur_loader.so.0 is not a symbolic link\n",
      "\n",
      "/sbin/ldconfig.real: /usr/local/lib/libtbb.so.12 is not a symbolic link\n",
      "\n",
      "/sbin/ldconfig.real: /usr/local/lib/libtbbmalloc.so.2 is not a symbolic link\n",
      "\n",
      "/sbin/ldconfig.real: /usr/local/lib/libtbbbind.so.3 is not a symbolic link\n",
      "\n",
      "/sbin/ldconfig.real: /usr/local/lib/libur_adapter_level_zero.so.0 is not a symbolic link\n",
      "\n",
      "/sbin/ldconfig.real: /usr/local/lib/libtbbbind_2_5.so.3 is not a symbolic link\n",
      "\n"
     ]
    }
   ],
   "source": [
    "!apt install plotutils"
   ]
  },
  {
   "cell_type": "code",
   "execution_count": null,
   "metadata": {
    "id": "lqMd1dfddXdM"
   },
   "outputs": [],
   "source": [
    "from IPython.display import SVG, display"
   ]
  },
  {
   "cell_type": "markdown",
   "metadata": {
    "id": "ji8j-zwQNev9"
   },
   "source": [
    "## Data and preprocess"
   ]
  },
  {
   "cell_type": "code",
   "execution_count": null,
   "metadata": {
    "colab": {
     "base_uri": "https://localhost:8080/"
    },
    "id": "d-KdWK_1soL1",
    "outputId": "e42548ca-af2d-468c-a961-9c5517ad4e9f"
   },
   "outputs": [
    {
     "name": "stdout",
     "output_type": "stream",
     "text": [
      "--2024-08-20 13:08:08--  https://raw.githubusercontent.com/yamagen/hachidaishu/main/dictionaryconverter.py\n",
      "Resolving raw.githubusercontent.com (raw.githubusercontent.com)... 185.199.108.133, 185.199.109.133, 185.199.110.133, ...\n",
      "Connecting to raw.githubusercontent.com (raw.githubusercontent.com)|185.199.108.133|:443... connected.\n",
      "HTTP request sent, awaiting response... 200 OK\n",
      "Length: 15745 (15K) [text/plain]\n",
      "Saving to: ‘dictionaryconverter.py’\n",
      "\n",
      "dictionaryconverter 100%[===================>]  15.38K  --.-KB/s    in 0.001s  \n",
      "\n",
      "2024-08-20 13:08:08 (22.6 MB/s) - ‘dictionaryconverter.py’ saved [15745/15745]\n",
      "\n",
      "--2024-08-20 13:08:09--  https://raw.githubusercontent.com/yamagen/hachidaishu/main/hachidaishu.py\n",
      "Resolving raw.githubusercontent.com (raw.githubusercontent.com)... 185.199.108.133, 185.199.109.133, 185.199.110.133, ...\n",
      "Connecting to raw.githubusercontent.com (raw.githubusercontent.com)|185.199.108.133|:443... connected.\n",
      "HTTP request sent, awaiting response... 200 OK\n",
      "Length: 8341 (8.1K) [text/plain]\n",
      "Saving to: ‘hachidaishu.py’\n",
      "\n",
      "hachidaishu.py      100%[===================>]   8.15K  --.-KB/s    in 0s      \n",
      "\n",
      "2024-08-20 13:08:09 (55.7 MB/s) - ‘hachidaishu.py’ saved [8341/8341]\n",
      "\n",
      "--2024-08-20 13:08:09--  https://raw.githubusercontent.com/yamagen/hachidaishu/main/hachidai.db\n",
      "Resolving raw.githubusercontent.com (raw.githubusercontent.com)... 185.199.108.133, 185.199.109.133, 185.199.110.133, ...\n",
      "Connecting to raw.githubusercontent.com (raw.githubusercontent.com)|185.199.108.133|:443... connected.\n",
      "HTTP request sent, awaiting response... 200 OK\n",
      "Length: 15181150 (14M) [text/plain]\n",
      "Saving to: ‘hachidai.db’\n",
      "\n",
      "hachidai.db         100%[===================>]  14.48M  --.-KB/s    in 0.09s   \n",
      "\n",
      "2024-08-20 13:08:10 (162 MB/s) - ‘hachidai.db’ saved [15181150/15181150]\n",
      "\n"
     ]
    }
   ],
   "source": [
    "# !wget -O hachidai_raw.db -c https://github.com/yamagen/hachidaishu/raw/main/hachidai.db\n",
    "!wget -O dictionaryconverter.py -c https://raw.githubusercontent.com/yamagen/hachidaishu/main/dictionaryconverter.py\n",
    "!wget -O hachidaishu.py -c https://raw.githubusercontent.com/yamagen/hachidaishu/main/hachidaishu.py\n",
    "!wget -O hachidai.db -c https://raw.githubusercontent.com/yamagen/hachidaishu/main/hachidai.db"
   ]
  },
  {
   "cell_type": "code",
   "execution_count": null,
   "metadata": {
    "colab": {
     "base_uri": "https://localhost:8080/"
    },
    "id": "aYuMTQlxmMDK",
    "outputId": "bdabc999-c3b7-4357-96ef-36031d6e17a5"
   },
   "outputs": [
    {
     "name": "stdout",
     "output_type": "stream",
     "text": [
      "01:000001:0001 A00 BG-01-1630-01-0100 02 年 年 とし 年 とし \n",
      "01:000001:0001 A10 BG-01-1911-03-1800 02 年 年 とし 年 とし \n",
      "01:000001:0002 A00 BG-08-0061-07-0100 61 の の の の の \n",
      "01:000001:0003 A00 BG-01-1770-01-0300 02 内 内 うち 内 うち \n",
      "01:000001:0004 A00 BG-08-0061-05-0100 61 に に に に に \n",
      "01:000001:0005 A00 BG-01-1624-02-0100 02 春 春 はる 春 はる \n",
      "01:000001:0006 A00 BG-08-0065-07-0100 65 は は は は は \n",
      "01:000001:0007 A00 BG-02-1527-01-0102 47 き 来 く 来 き \n",
      "01:000001:0008 A00 BG-03-1200-02-0900 74 に ぬ ぬ に に \n",
      "01:000001:0008 A10 BG-09-0010-01-0101 74 に ぬ ぬ に に \n"
     ]
    }
   ],
   "source": [
    "!head hachidai.db"
   ]
  },
  {
   "cell_type": "markdown",
   "metadata": {
    "id": "sHnQ-1WK8MjY"
   },
   "source": [
    "## Hachidai DB"
   ]
  },
  {
   "cell_type": "markdown",
   "metadata": {
    "id": "Z95SiJbsgLQM"
   },
   "source": [
    "# Collocation"
   ]
  },
  {
   "cell_type": "markdown",
   "metadata": {
    "id": "ME6jCzxygSTl"
   },
   "source": [
    "## All"
   ]
  },
  {
   "cell_type": "code",
   "execution_count": null,
   "metadata": {
    "id": "fnDfvo1h5ee9"
   },
   "outputs": [],
   "source": [
    "# hachidai.db +> tatsuta lines +> poem ID +> uniq ID + match ID +>\n",
    "# simplex form lines & basic seme +> regarding columns +> output\n",
    "# collect tatsuta poems\n",
    "!cat hachidai.db |\\\n",
    "  awk '$7 ~ /たつた/' |\\\n",
    "  awk -F ':' '{print $1 \":\" $2}' |\\\n",
    "  sort | uniq |\\\n",
    "  grep -E -f - hachidai.db |\\\n",
    "  awk '$2 ~ /^[ACE]0/' |\\\n",
    "  awk '{print $1,$2,$3,$4,$7}' >\\\n",
    "  tatsuta.txt\n",
    "\n",
    "!cat tatsuta.txt |\\\n",
    "  awk '{print $5}' |\\\n",
    "  sort | uniq -c |\\\n",
    "  sort -nr >\\\n",
    "  tf-tatsuta.txt\n",
    "\n",
    "!cat tf-tatsuta.txt |\\\n",
    "  nl |\\\n",
    "  awk '{print $1,$2}' |\\\n",
    "  graph -Tsvg -L \"Term Frequency in Tatsuta Context\" -X \"rank\" -Y \"frequency\" >\\\n",
    "  tf-tatsuta.svg\n",
    "\n",
    "!cat tatsuta.txt |\\\n",
    "  awk '{print substr($1, 1, 8) \";\" $5}' |\\\n",
    "  sort | uniq |\\\n",
    "  awk -F ';' '{print $2}' |\\\n",
    "  sort | uniq -c |\\\n",
    "  sort -nr >\\\n",
    "  df-tatsuta.txt\n",
    "\n",
    "!cat df-tatsuta.txt |\\\n",
    "  nl |\\\n",
    "  awk '{print $1,$2}' |\\\n",
    "  graph -Tsvg -L \"Document Frequency in Tatsuta Context\" -X \"rank\" -Y \"frequency\" >\\\n",
    "  df-tatsuta.svg\n"
   ]
  },
  {
   "cell_type": "code",
   "execution_count": null,
   "metadata": {
    "colab": {
     "base_uri": "https://localhost:8080/"
    },
    "collapsed": true,
    "id": "EdresXERPyeB",
    "jupyter": {
     "outputs_hidden": true
    },
    "outputId": "d276cf19-abf6-4298-a8d5-9a0ad7ffc40d"
   },
   "outputs": [
    {
     "data": {
      "image/svg+xml": [
       "<svg xmlns=\"http://www.w3.org/2000/svg\" xmlns:xlink=\"http://www.w3.org/1999/xlink\" xmlns:ev=\"http://www.w3.org/2001/xml-events\" version=\"1.1\" baseProfile=\"full\" id=\"body\" width=\"8in\" height=\"8in\" viewBox=\"0 0 1 1\" preserveAspectRatio=\"none\">\n",
       "<title>SVG drawing</title>\n",
       "<desc>This was produced by version 4.4 of GNU libplot, a free library for exporting 2-D vector graphics.</desc>\n",
       "<rect id=\"background\" x=\"0\" y=\"0\" width=\"1\" height=\"1\" stroke=\"none\" fill=\"white\"/>\n",
       "<g id=\"content\" transform=\"translate(0,1) scale(1,-1) scale(0.00024414) \" xml:space=\"preserve\" stroke=\"black\" stroke-linecap=\"butt\" stroke-linejoin=\"miter\" stroke-miterlimit=\"10.433\" stroke-dasharray=\"none\" stroke-dashoffset=\"0\" stroke-opacity=\"1\" fill=\"none\" fill-rule=\"evenodd\" fill-opacity=\"1\" font-style=\"normal\" font-variant=\"normal\" font-weight=\"normal\" font-stretch=\"normal\" font-size-adjust=\"none\" letter-spacing=\"normal\" word-spacing=\"normal\" text-anchor=\"start\">\n",
       "<text transform=\"translate(695.14,3451.9) scale(1,-1) scale(8.6016) \" font-family=\"Helvetica,sans-serif\" font-size=\"20px\" stroke=\"none\" fill=\"black\">Term Frequency in Tatsuta Context</text>\n",
       "<rect x=\"819.2\" y=\"819.2\" width=\"2457.6\" height=\"2457.6\" stroke-width=\"4.8188\"/>\n",
       "<text transform=\"translate(783.33,662.21) scale(1,-1) scale(6.4512) \" font-family=\"Helvetica,sans-serif\" font-size=\"20px\" stroke=\"none\" fill=\"black\">0</text>\n",
       "<line x1=\"819.2\" y1=\"3276.8\" x2=\"819.2\" y2=\"3227.6\" stroke-width=\"4.8188\"/>\n",
       "<line x1=\"819.2\" y1=\"819.2\" x2=\"819.2\" y2=\"868.35\" stroke-width=\"4.8188\"/>\n",
       "<text transform=\"translate(1157.1,662.21) scale(1,-1) scale(6.4512) \" font-family=\"Helvetica,sans-serif\" font-size=\"20px\" stroke=\"none\" fill=\"black\">50</text>\n",
       "<line x1=\"1228.8\" y1=\"3276.8\" x2=\"1228.8\" y2=\"3227.6\" stroke-width=\"4.8188\"/>\n",
       "<line x1=\"1228.8\" y1=\"819.2\" x2=\"1228.8\" y2=\"868.35\" stroke-width=\"4.8188\"/>\n",
       "<text transform=\"translate(1530.8,662.21) scale(1,-1) scale(6.4512) \" font-family=\"Helvetica,sans-serif\" font-size=\"20px\" stroke=\"none\" fill=\"black\">100</text>\n",
       "<line x1=\"1638.4\" y1=\"3276.8\" x2=\"1638.4\" y2=\"3227.6\" stroke-width=\"4.8188\"/>\n",
       "<line x1=\"1638.4\" y1=\"819.2\" x2=\"1638.4\" y2=\"868.35\" stroke-width=\"4.8188\"/>\n",
       "<text transform=\"translate(1940.4,662.21) scale(1,-1) scale(6.4512) \" font-family=\"Helvetica,sans-serif\" font-size=\"20px\" stroke=\"none\" fill=\"black\">150</text>\n",
       "<line x1=\"2048\" y1=\"3276.8\" x2=\"2048\" y2=\"3227.6\" stroke-width=\"4.8188\"/>\n",
       "<line x1=\"2048\" y1=\"819.2\" x2=\"2048\" y2=\"868.35\" stroke-width=\"4.8188\"/>\n",
       "<text transform=\"translate(2350,662.21) scale(1,-1) scale(6.4512) \" font-family=\"Helvetica,sans-serif\" font-size=\"20px\" stroke=\"none\" fill=\"black\">200</text>\n",
       "<line x1=\"2457.6\" y1=\"3276.8\" x2=\"2457.6\" y2=\"3227.6\" stroke-width=\"4.8188\"/>\n",
       "<line x1=\"2457.6\" y1=\"819.2\" x2=\"2457.6\" y2=\"868.35\" stroke-width=\"4.8188\"/>\n",
       "<text transform=\"translate(2759.6,662.21) scale(1,-1) scale(6.4512) \" font-family=\"Helvetica,sans-serif\" font-size=\"20px\" stroke=\"none\" fill=\"black\">250</text>\n",
       "<line x1=\"2867.2\" y1=\"3276.8\" x2=\"2867.2\" y2=\"3227.6\" stroke-width=\"4.8188\"/>\n",
       "<line x1=\"2867.2\" y1=\"819.2\" x2=\"2867.2\" y2=\"868.35\" stroke-width=\"4.8188\"/>\n",
       "<text transform=\"translate(3169.2,662.21) scale(1,-1) scale(6.4512) \" font-family=\"Helvetica,sans-serif\" font-size=\"20px\" stroke=\"none\" fill=\"black\">300</text>\n",
       "<line x1=\"3276.8\" y1=\"3276.8\" x2=\"3276.8\" y2=\"3227.6\" stroke-width=\"4.8188\"/>\n",
       "<line x1=\"3276.8\" y1=\"819.2\" x2=\"3276.8\" y2=\"868.35\" stroke-width=\"4.8188\"/>\n",
       "<text transform=\"translate(710.6,773.65) scale(1,-1) scale(6.4512) \" font-family=\"Helvetica,sans-serif\" font-size=\"20px\" stroke=\"none\" fill=\"black\">0</text>\n",
       "<line x1=\"3276.8\" y1=\"819.2\" x2=\"3227.6\" y2=\"819.2\" stroke-width=\"4.8188\"/>\n",
       "<line x1=\"819.2\" y1=\"819.2\" x2=\"868.35\" y2=\"819.2\" stroke-width=\"4.8188\"/>\n",
       "<text transform=\"translate(638.86,1124.7) scale(1,-1) scale(6.4512) \" font-family=\"Helvetica,sans-serif\" font-size=\"20px\" stroke=\"none\" fill=\"black\">20</text>\n",
       "<line x1=\"3276.8\" y1=\"1170.3\" x2=\"3227.6\" y2=\"1170.3\" stroke-width=\"4.8188\"/>\n",
       "<line x1=\"819.2\" y1=\"1170.3\" x2=\"868.35\" y2=\"1170.3\" stroke-width=\"4.8188\"/>\n",
       "<text transform=\"translate(638.86,1475.8) scale(1,-1) scale(6.4512) \" font-family=\"Helvetica,sans-serif\" font-size=\"20px\" stroke=\"none\" fill=\"black\">40</text>\n",
       "<line x1=\"3276.8\" y1=\"1521.4\" x2=\"3227.6\" y2=\"1521.4\" stroke-width=\"4.8188\"/>\n",
       "<line x1=\"819.2\" y1=\"1521.4\" x2=\"868.35\" y2=\"1521.4\" stroke-width=\"4.8188\"/>\n",
       "<text transform=\"translate(638.86,1826.9) scale(1,-1) scale(6.4512) \" font-family=\"Helvetica,sans-serif\" font-size=\"20px\" stroke=\"none\" fill=\"black\">60</text>\n",
       "<line x1=\"3276.8\" y1=\"1872.5\" x2=\"3227.6\" y2=\"1872.5\" stroke-width=\"4.8188\"/>\n",
       "<line x1=\"819.2\" y1=\"1872.5\" x2=\"868.35\" y2=\"1872.5\" stroke-width=\"4.8188\"/>\n",
       "<text transform=\"translate(638.86,2178) scale(1,-1) scale(6.4512) \" font-family=\"Helvetica,sans-serif\" font-size=\"20px\" stroke=\"none\" fill=\"black\">80</text>\n",
       "<line x1=\"3276.8\" y1=\"2223.5\" x2=\"3227.6\" y2=\"2223.5\" stroke-width=\"4.8188\"/>\n",
       "<line x1=\"819.2\" y1=\"2223.5\" x2=\"868.35\" y2=\"2223.5\" stroke-width=\"4.8188\"/>\n",
       "<text transform=\"translate(567.12,2529.1) scale(1,-1) scale(6.4512) \" font-family=\"Helvetica,sans-serif\" font-size=\"20px\" stroke=\"none\" fill=\"black\">100</text>\n",
       "<line x1=\"3276.8\" y1=\"2574.6\" x2=\"3227.6\" y2=\"2574.6\" stroke-width=\"4.8188\"/>\n",
       "<line x1=\"819.2\" y1=\"2574.6\" x2=\"868.35\" y2=\"2574.6\" stroke-width=\"4.8188\"/>\n",
       "<text transform=\"translate(567.12,2880.2) scale(1,-1) scale(6.4512) \" font-family=\"Helvetica,sans-serif\" font-size=\"20px\" stroke=\"none\" fill=\"black\">120</text>\n",
       "<line x1=\"3276.8\" y1=\"2925.7\" x2=\"3227.6\" y2=\"2925.7\" stroke-width=\"4.8188\"/>\n",
       "<line x1=\"819.2\" y1=\"2925.7\" x2=\"868.35\" y2=\"2925.7\" stroke-width=\"4.8188\"/>\n",
       "<text transform=\"translate(567.12,3231.3) scale(1,-1) scale(6.4512) \" font-family=\"Helvetica,sans-serif\" font-size=\"20px\" stroke=\"none\" fill=\"black\">140</text>\n",
       "<line x1=\"3276.8\" y1=\"3276.8\" x2=\"3227.6\" y2=\"3276.8\" stroke-width=\"4.8188\"/>\n",
       "<line x1=\"819.2\" y1=\"3276.8\" x2=\"868.35\" y2=\"3276.8\" stroke-width=\"4.8188\"/>\n",
       "<line x1=\"3276.8\" y1=\"819.2\" x2=\"3257.1\" y2=\"819.2\" stroke-width=\"4.8188\"/>\n",
       "<line x1=\"819.2\" y1=\"819.2\" x2=\"838.86\" y2=\"819.2\" stroke-width=\"4.8188\"/>\n",
       "<line x1=\"3276.8\" y1=\"994.74\" x2=\"3257.1\" y2=\"994.74\" stroke-width=\"4.8188\"/>\n",
       "<line x1=\"819.2\" y1=\"994.74\" x2=\"838.86\" y2=\"994.74\" stroke-width=\"4.8188\"/>\n",
       "<line x1=\"3276.8\" y1=\"1170.3\" x2=\"3257.1\" y2=\"1170.3\" stroke-width=\"4.8188\"/>\n",
       "<line x1=\"819.2\" y1=\"1170.3\" x2=\"838.86\" y2=\"1170.3\" stroke-width=\"4.8188\"/>\n",
       "<line x1=\"3276.8\" y1=\"1345.8\" x2=\"3257.1\" y2=\"1345.8\" stroke-width=\"4.8188\"/>\n",
       "<line x1=\"819.2\" y1=\"1345.8\" x2=\"838.86\" y2=\"1345.8\" stroke-width=\"4.8188\"/>\n",
       "<line x1=\"3276.8\" y1=\"1521.4\" x2=\"3257.1\" y2=\"1521.4\" stroke-width=\"4.8188\"/>\n",
       "<line x1=\"819.2\" y1=\"1521.4\" x2=\"838.86\" y2=\"1521.4\" stroke-width=\"4.8188\"/>\n",
       "<line x1=\"3276.8\" y1=\"1696.9\" x2=\"3257.1\" y2=\"1696.9\" stroke-width=\"4.8188\"/>\n",
       "<line x1=\"819.2\" y1=\"1696.9\" x2=\"838.86\" y2=\"1696.9\" stroke-width=\"4.8188\"/>\n",
       "<line x1=\"3276.8\" y1=\"1872.5\" x2=\"3257.1\" y2=\"1872.5\" stroke-width=\"4.8188\"/>\n",
       "<line x1=\"819.2\" y1=\"1872.5\" x2=\"838.86\" y2=\"1872.5\" stroke-width=\"4.8188\"/>\n",
       "<line x1=\"3276.8\" y1=\"2048\" x2=\"3257.1\" y2=\"2048\" stroke-width=\"4.8188\"/>\n",
       "<line x1=\"819.2\" y1=\"2048\" x2=\"838.86\" y2=\"2048\" stroke-width=\"4.8188\"/>\n",
       "<line x1=\"3276.8\" y1=\"2223.5\" x2=\"3257.1\" y2=\"2223.5\" stroke-width=\"4.8188\"/>\n",
       "<line x1=\"819.2\" y1=\"2223.5\" x2=\"838.86\" y2=\"2223.5\" stroke-width=\"4.8188\"/>\n",
       "<line x1=\"3276.8\" y1=\"2399.1\" x2=\"3257.1\" y2=\"2399.1\" stroke-width=\"4.8188\"/>\n",
       "<line x1=\"819.2\" y1=\"2399.1\" x2=\"838.86\" y2=\"2399.1\" stroke-width=\"4.8188\"/>\n",
       "<line x1=\"3276.8\" y1=\"2574.6\" x2=\"3257.1\" y2=\"2574.6\" stroke-width=\"4.8188\"/>\n",
       "<line x1=\"819.2\" y1=\"2574.6\" x2=\"838.86\" y2=\"2574.6\" stroke-width=\"4.8188\"/>\n",
       "<line x1=\"3276.8\" y1=\"2750.2\" x2=\"3257.1\" y2=\"2750.2\" stroke-width=\"4.8188\"/>\n",
       "<line x1=\"819.2\" y1=\"2750.2\" x2=\"838.86\" y2=\"2750.2\" stroke-width=\"4.8188\"/>\n",
       "<line x1=\"3276.8\" y1=\"2925.7\" x2=\"3257.1\" y2=\"2925.7\" stroke-width=\"4.8188\"/>\n",
       "<line x1=\"819.2\" y1=\"2925.7\" x2=\"838.86\" y2=\"2925.7\" stroke-width=\"4.8188\"/>\n",
       "<line x1=\"3276.8\" y1=\"3101.3\" x2=\"3257.1\" y2=\"3101.3\" stroke-width=\"4.8188\"/>\n",
       "<line x1=\"819.2\" y1=\"3101.3\" x2=\"838.86\" y2=\"3101.3\" stroke-width=\"4.8188\"/>\n",
       "<line x1=\"3276.8\" y1=\"3276.8\" x2=\"3257.1\" y2=\"3276.8\" stroke-width=\"4.8188\"/>\n",
       "<line x1=\"819.2\" y1=\"3276.8\" x2=\"838.86\" y2=\"3276.8\" stroke-width=\"4.8188\"/>\n",
       "<text transform=\"translate(1922.5,501.24) scale(1,-1) scale(6.4512) \" font-family=\"Helvetica,sans-serif\" font-size=\"20px\" stroke=\"none\" fill=\"black\">rank</text>\n",
       "<text transform=\"matrix(0 6.4512 6.4512 0 470.33 1764.7) \" font-family=\"Helvetica,sans-serif\" font-size=\"20px\" stroke=\"none\" fill=\"black\">frequency</text>\n",
       "<polyline points=\"827.39,3276.8 835.58,1907.6 843.78,1574 851.97,1556.5 860.16,1468.7 868.35,1187.8 876.54,1170.3 884.74,1152.7 892.93,1135.2 901.12,1117.6 909.31,1117.6 917.5,1117.6 925.7,1100.1 933.89,1100.1 942.08,1082.5 950.27,1082.5 958.46,1047.4 966.66,1047.4 974.85,1029.9 983.04,1029.9 991.23,994.74 999.42,994.74 1007.6,977.19 1015.8,977.19 1024,959.63 1032.2,959.63 1040.4,959.63 1048.6,959.63 1056.8,942.08 1065,942.08 1073.2,942.08 1081.3,942.08 1089.5,942.08 1097.7,942.08 1105.9,942.08 1114.1,924.53 1122.3,924.53 1130.5,924.53 1138.7,906.97 1146.9,906.97 1155.1,906.97 1163.3,906.97 1171.5,906.97 1179.6,906.97 1187.8,906.97 1196,906.97 1204.2,906.97 1212.4,889.42 1220.6,889.42 1228.8,889.42 1237,889.42 1245.2,889.42 1253.4,889.42 1261.6,889.42 1269.8,889.42 1278,889.42 1286.1,889.42 1294.3,889.42 1302.5,889.42 1310.7,889.42 1318.9,889.42 1327.1,889.42 1335.3,889.42 1343.5,889.42 1351.7,871.86 1359.9,871.86 1368.1,871.86 1376.3,871.86 1384.4,871.86 1392.6,871.86 1400.8,871.86 1409,871.86 1417.2,871.86 1425.4,871.86 1433.6,871.86 1441.8,871.86 1450,871.86 1458.2,871.86 1466.4,871.86 1474.6,854.31 1482.8,854.31 1490.9,854.31 1499.1,854.31 1507.3,854.31 1515.5,854.31 1523.7,854.31 1531.9,854.31 1540.1,854.31 1548.3,854.31 1556.5,854.31 1564.7,854.31 1572.9,854.31 1581.1,854.31 1589.2,854.31 1597.4,854.31 1605.6,854.31 1613.8,854.31 1622,854.31 1630.2,854.31 1638.4,854.31 1646.6,854.31 1654.8,854.31 1663,854.31 1671.2,854.31 1679.4,854.31 1687.6,854.31 1695.7,854.31 1703.9,854.31 1712.1,854.31 1720.3,854.31 1728.5,854.31 1736.7,854.31 1744.9,854.31 1753.1,854.31 1761.3,854.31 1769.5,854.31 1777.7,854.31 1785.9,854.31 1794,836.75 1802.2,836.75 1810.4,836.75 1818.6,836.75 1826.8,836.75 1835,836.75 1843.2,836.75 1851.4,836.75 1859.6,836.75 1867.8,836.75 1876,836.75 1884.2,836.75 1892.4,836.75 1900.5,836.75 1908.7,836.75 1916.9,836.75 1925.1,836.75 1933.3,836.75 1941.5,836.75 1949.7,836.75 1957.9,836.75 1966.1,836.75 1974.3,836.75 1982.5,836.75 1990.7,836.75 1998.8,836.75 2007,836.75 2015.2,836.75 2023.4,836.75 2031.6,836.75 2039.8,836.75 2048,836.75 2056.2,836.75 2064.4,836.75 2072.6,836.75 2080.8,836.75 2089,836.75 2097.2,836.75 2105.3,836.75 2113.5,836.75 2121.7,836.75 2129.9,836.75 2138.1,836.75 2146.3,836.75 2154.5,836.75 2162.7,836.75 2170.9,836.75 2179.1,836.75 2187.3,836.75 2195.5,836.75 2203.6,836.75 2211.8,836.75 2220,836.75 2228.2,836.75 2236.4,836.75 2244.6,836.75 2252.8,836.75 2261,836.75 2269.2,836.75 2277.4,836.75 2285.6,836.75 2293.8,836.75 2302,836.75 2310.1,836.75 2318.3,836.75 2326.5,836.75 2334.7,836.75 2342.9,836.75 2351.1,836.75 2359.3,836.75 2367.5,836.75 2375.7,836.75 2383.9,836.75 2392.1,836.75 2400.3,836.75 2408.4,836.75 2416.6,836.75 2424.8,836.75 2433,836.75 2441.2,836.75 2449.4,836.75 2457.6,836.75 2465.8,836.75 2474,836.75 2482.2,836.75 2490.4,836.75 2498.6,836.75 2506.8,836.75 2514.9,836.75 2523.1,836.75 2531.3,836.75 2539.5,836.75 2547.7,836.75 2555.9,836.75 2564.1,836.75 2572.3,836.75 2580.5,836.75 2588.7,836.75 2596.9,836.75 2605.1,836.75 2613.2,836.75 2621.4,836.75 2629.6,836.75 2637.8,836.75 2646,836.75 2654.2,836.75 2662.4,836.75 2670.6,836.75 2678.8,836.75 2687,836.75 2695.2,836.75 2703.4,836.75 2711.6,836.75 2719.7,836.75 2727.9,836.75 2736.1,836.75 2744.3,836.75 2752.5,836.75 2760.7,836.75 2768.9,836.75 2777.1,836.75 2785.3,836.75 2793.5,836.75 2801.7,836.75 2809.9,836.75 2818,836.75 2826.2,836.75 2834.4,836.75 2842.6,836.75 2850.8,836.75 2859,836.75 2867.2,836.75 2875.4,836.75 2883.6,836.75 2891.8,836.75 2900,836.75 2908.2,836.75 2916.4,836.75 2924.5,836.75 2932.7,836.75 2940.9,836.75 2949.1,836.75 2957.3,836.75 \" stroke-width=\"4.8188\"/>\n",
       "</g>\n",
       "</svg>"
      ],
      "text/plain": [
       "<IPython.core.display.SVG object>"
      ]
     },
     "metadata": {},
     "output_type": "display_data"
    },
    {
     "data": {
      "image/svg+xml": [
       "<svg xmlns=\"http://www.w3.org/2000/svg\" xmlns:xlink=\"http://www.w3.org/1999/xlink\" xmlns:ev=\"http://www.w3.org/2001/xml-events\" version=\"1.1\" baseProfile=\"full\" id=\"body\" width=\"8in\" height=\"8in\" viewBox=\"0 0 1 1\" preserveAspectRatio=\"none\">\n",
       "<title>SVG drawing</title>\n",
       "<desc>This was produced by version 4.4 of GNU libplot, a free library for exporting 2-D vector graphics.</desc>\n",
       "<rect id=\"background\" x=\"0\" y=\"0\" width=\"1\" height=\"1\" stroke=\"none\" fill=\"white\"/>\n",
       "<g id=\"content\" transform=\"translate(0,1) scale(1,-1) scale(0.00024414) \" xml:space=\"preserve\" stroke=\"black\" stroke-linecap=\"butt\" stroke-linejoin=\"miter\" stroke-miterlimit=\"10.433\" stroke-dasharray=\"none\" stroke-dashoffset=\"0\" stroke-opacity=\"1\" fill=\"none\" fill-rule=\"evenodd\" fill-opacity=\"1\" font-style=\"normal\" font-variant=\"normal\" font-weight=\"normal\" font-stretch=\"normal\" font-size-adjust=\"none\" letter-spacing=\"normal\" word-spacing=\"normal\" text-anchor=\"start\">\n",
       "<text transform=\"translate(503.84,3451.9) scale(1,-1) scale(8.6016) \" font-family=\"Helvetica,sans-serif\" font-size=\"20px\" stroke=\"none\" fill=\"black\">Document Frequency in Tatsuta Context</text>\n",
       "<rect x=\"819.2\" y=\"819.2\" width=\"2457.6\" height=\"2457.6\" stroke-width=\"4.8188\"/>\n",
       "<text transform=\"translate(783.33,662.21) scale(1,-1) scale(6.4512) \" font-family=\"Helvetica,sans-serif\" font-size=\"20px\" stroke=\"none\" fill=\"black\">0</text>\n",
       "<line x1=\"819.2\" y1=\"3276.8\" x2=\"819.2\" y2=\"3227.6\" stroke-width=\"4.8188\"/>\n",
       "<line x1=\"819.2\" y1=\"819.2\" x2=\"819.2\" y2=\"868.35\" stroke-width=\"4.8188\"/>\n",
       "<text transform=\"translate(1157.1,662.21) scale(1,-1) scale(6.4512) \" font-family=\"Helvetica,sans-serif\" font-size=\"20px\" stroke=\"none\" fill=\"black\">50</text>\n",
       "<line x1=\"1228.8\" y1=\"3276.8\" x2=\"1228.8\" y2=\"3227.6\" stroke-width=\"4.8188\"/>\n",
       "<line x1=\"1228.8\" y1=\"819.2\" x2=\"1228.8\" y2=\"868.35\" stroke-width=\"4.8188\"/>\n",
       "<text transform=\"translate(1530.8,662.21) scale(1,-1) scale(6.4512) \" font-family=\"Helvetica,sans-serif\" font-size=\"20px\" stroke=\"none\" fill=\"black\">100</text>\n",
       "<line x1=\"1638.4\" y1=\"3276.8\" x2=\"1638.4\" y2=\"3227.6\" stroke-width=\"4.8188\"/>\n",
       "<line x1=\"1638.4\" y1=\"819.2\" x2=\"1638.4\" y2=\"868.35\" stroke-width=\"4.8188\"/>\n",
       "<text transform=\"translate(1940.4,662.21) scale(1,-1) scale(6.4512) \" font-family=\"Helvetica,sans-serif\" font-size=\"20px\" stroke=\"none\" fill=\"black\">150</text>\n",
       "<line x1=\"2048\" y1=\"3276.8\" x2=\"2048\" y2=\"3227.6\" stroke-width=\"4.8188\"/>\n",
       "<line x1=\"2048\" y1=\"819.2\" x2=\"2048\" y2=\"868.35\" stroke-width=\"4.8188\"/>\n",
       "<text transform=\"translate(2350,662.21) scale(1,-1) scale(6.4512) \" font-family=\"Helvetica,sans-serif\" font-size=\"20px\" stroke=\"none\" fill=\"black\">200</text>\n",
       "<line x1=\"2457.6\" y1=\"3276.8\" x2=\"2457.6\" y2=\"3227.6\" stroke-width=\"4.8188\"/>\n",
       "<line x1=\"2457.6\" y1=\"819.2\" x2=\"2457.6\" y2=\"868.35\" stroke-width=\"4.8188\"/>\n",
       "<text transform=\"translate(2759.6,662.21) scale(1,-1) scale(6.4512) \" font-family=\"Helvetica,sans-serif\" font-size=\"20px\" stroke=\"none\" fill=\"black\">250</text>\n",
       "<line x1=\"2867.2\" y1=\"3276.8\" x2=\"2867.2\" y2=\"3227.6\" stroke-width=\"4.8188\"/>\n",
       "<line x1=\"2867.2\" y1=\"819.2\" x2=\"2867.2\" y2=\"868.35\" stroke-width=\"4.8188\"/>\n",
       "<text transform=\"translate(3169.2,662.21) scale(1,-1) scale(6.4512) \" font-family=\"Helvetica,sans-serif\" font-size=\"20px\" stroke=\"none\" fill=\"black\">300</text>\n",
       "<line x1=\"3276.8\" y1=\"3276.8\" x2=\"3276.8\" y2=\"3227.6\" stroke-width=\"4.8188\"/>\n",
       "<line x1=\"3276.8\" y1=\"819.2\" x2=\"3276.8\" y2=\"868.35\" stroke-width=\"4.8188\"/>\n",
       "<text transform=\"translate(710.6,773.65) scale(1,-1) scale(6.4512) \" font-family=\"Helvetica,sans-serif\" font-size=\"20px\" stroke=\"none\" fill=\"black\">0</text>\n",
       "<line x1=\"3276.8\" y1=\"819.2\" x2=\"3227.6\" y2=\"819.2\" stroke-width=\"4.8188\"/>\n",
       "<line x1=\"819.2\" y1=\"819.2\" x2=\"868.35\" y2=\"819.2\" stroke-width=\"4.8188\"/>\n",
       "<text transform=\"translate(638.86,1265.2) scale(1,-1) scale(6.4512) \" font-family=\"Helvetica,sans-serif\" font-size=\"20px\" stroke=\"none\" fill=\"black\">10</text>\n",
       "<line x1=\"3276.8\" y1=\"1310.7\" x2=\"3227.6\" y2=\"1310.7\" stroke-width=\"4.8188\"/>\n",
       "<line x1=\"819.2\" y1=\"1310.7\" x2=\"868.35\" y2=\"1310.7\" stroke-width=\"4.8188\"/>\n",
       "<text transform=\"translate(638.86,1756.7) scale(1,-1) scale(6.4512) \" font-family=\"Helvetica,sans-serif\" font-size=\"20px\" stroke=\"none\" fill=\"black\">20</text>\n",
       "<line x1=\"3276.8\" y1=\"1802.2\" x2=\"3227.6\" y2=\"1802.2\" stroke-width=\"4.8188\"/>\n",
       "<line x1=\"819.2\" y1=\"1802.2\" x2=\"868.35\" y2=\"1802.2\" stroke-width=\"4.8188\"/>\n",
       "<text transform=\"translate(638.86,2248.2) scale(1,-1) scale(6.4512) \" font-family=\"Helvetica,sans-serif\" font-size=\"20px\" stroke=\"none\" fill=\"black\">30</text>\n",
       "<line x1=\"3276.8\" y1=\"2293.8\" x2=\"3227.6\" y2=\"2293.8\" stroke-width=\"4.8188\"/>\n",
       "<line x1=\"819.2\" y1=\"2293.8\" x2=\"868.35\" y2=\"2293.8\" stroke-width=\"4.8188\"/>\n",
       "<text transform=\"translate(638.86,2739.7) scale(1,-1) scale(6.4512) \" font-family=\"Helvetica,sans-serif\" font-size=\"20px\" stroke=\"none\" fill=\"black\">40</text>\n",
       "<line x1=\"3276.8\" y1=\"2785.3\" x2=\"3227.6\" y2=\"2785.3\" stroke-width=\"4.8188\"/>\n",
       "<line x1=\"819.2\" y1=\"2785.3\" x2=\"868.35\" y2=\"2785.3\" stroke-width=\"4.8188\"/>\n",
       "<text transform=\"translate(638.86,3231.3) scale(1,-1) scale(6.4512) \" font-family=\"Helvetica,sans-serif\" font-size=\"20px\" stroke=\"none\" fill=\"black\">50</text>\n",
       "<line x1=\"3276.8\" y1=\"3276.8\" x2=\"3227.6\" y2=\"3276.8\" stroke-width=\"4.8188\"/>\n",
       "<line x1=\"819.2\" y1=\"3276.8\" x2=\"868.35\" y2=\"3276.8\" stroke-width=\"4.8188\"/>\n",
       "<line x1=\"3276.8\" y1=\"819.2\" x2=\"3257.1\" y2=\"819.2\" stroke-width=\"4.8188\"/>\n",
       "<line x1=\"819.2\" y1=\"819.2\" x2=\"838.86\" y2=\"819.2\" stroke-width=\"4.8188\"/>\n",
       "<line x1=\"3276.8\" y1=\"917.5\" x2=\"3257.1\" y2=\"917.5\" stroke-width=\"4.8188\"/>\n",
       "<line x1=\"819.2\" y1=\"917.5\" x2=\"838.86\" y2=\"917.5\" stroke-width=\"4.8188\"/>\n",
       "<line x1=\"3276.8\" y1=\"1015.8\" x2=\"3257.1\" y2=\"1015.8\" stroke-width=\"4.8188\"/>\n",
       "<line x1=\"819.2\" y1=\"1015.8\" x2=\"838.86\" y2=\"1015.8\" stroke-width=\"4.8188\"/>\n",
       "<line x1=\"3276.8\" y1=\"1114.1\" x2=\"3257.1\" y2=\"1114.1\" stroke-width=\"4.8188\"/>\n",
       "<line x1=\"819.2\" y1=\"1114.1\" x2=\"838.86\" y2=\"1114.1\" stroke-width=\"4.8188\"/>\n",
       "<line x1=\"3276.8\" y1=\"1212.4\" x2=\"3257.1\" y2=\"1212.4\" stroke-width=\"4.8188\"/>\n",
       "<line x1=\"819.2\" y1=\"1212.4\" x2=\"838.86\" y2=\"1212.4\" stroke-width=\"4.8188\"/>\n",
       "<line x1=\"3276.8\" y1=\"1310.7\" x2=\"3257.1\" y2=\"1310.7\" stroke-width=\"4.8188\"/>\n",
       "<line x1=\"819.2\" y1=\"1310.7\" x2=\"838.86\" y2=\"1310.7\" stroke-width=\"4.8188\"/>\n",
       "<line x1=\"3276.8\" y1=\"1409\" x2=\"3257.1\" y2=\"1409\" stroke-width=\"4.8188\"/>\n",
       "<line x1=\"819.2\" y1=\"1409\" x2=\"838.86\" y2=\"1409\" stroke-width=\"4.8188\"/>\n",
       "<line x1=\"3276.8\" y1=\"1507.3\" x2=\"3257.1\" y2=\"1507.3\" stroke-width=\"4.8188\"/>\n",
       "<line x1=\"819.2\" y1=\"1507.3\" x2=\"838.86\" y2=\"1507.3\" stroke-width=\"4.8188\"/>\n",
       "<line x1=\"3276.8\" y1=\"1605.6\" x2=\"3257.1\" y2=\"1605.6\" stroke-width=\"4.8188\"/>\n",
       "<line x1=\"819.2\" y1=\"1605.6\" x2=\"838.86\" y2=\"1605.6\" stroke-width=\"4.8188\"/>\n",
       "<line x1=\"3276.8\" y1=\"1703.9\" x2=\"3257.1\" y2=\"1703.9\" stroke-width=\"4.8188\"/>\n",
       "<line x1=\"819.2\" y1=\"1703.9\" x2=\"838.86\" y2=\"1703.9\" stroke-width=\"4.8188\"/>\n",
       "<line x1=\"3276.8\" y1=\"1802.2\" x2=\"3257.1\" y2=\"1802.2\" stroke-width=\"4.8188\"/>\n",
       "<line x1=\"819.2\" y1=\"1802.2\" x2=\"838.86\" y2=\"1802.2\" stroke-width=\"4.8188\"/>\n",
       "<line x1=\"3276.8\" y1=\"1900.5\" x2=\"3257.1\" y2=\"1900.5\" stroke-width=\"4.8188\"/>\n",
       "<line x1=\"819.2\" y1=\"1900.5\" x2=\"838.86\" y2=\"1900.5\" stroke-width=\"4.8188\"/>\n",
       "<line x1=\"3276.8\" y1=\"1998.8\" x2=\"3257.1\" y2=\"1998.8\" stroke-width=\"4.8188\"/>\n",
       "<line x1=\"819.2\" y1=\"1998.8\" x2=\"838.86\" y2=\"1998.8\" stroke-width=\"4.8188\"/>\n",
       "<line x1=\"3276.8\" y1=\"2097.2\" x2=\"3257.1\" y2=\"2097.2\" stroke-width=\"4.8188\"/>\n",
       "<line x1=\"819.2\" y1=\"2097.2\" x2=\"838.86\" y2=\"2097.2\" stroke-width=\"4.8188\"/>\n",
       "<line x1=\"3276.8\" y1=\"2195.5\" x2=\"3257.1\" y2=\"2195.5\" stroke-width=\"4.8188\"/>\n",
       "<line x1=\"819.2\" y1=\"2195.5\" x2=\"838.86\" y2=\"2195.5\" stroke-width=\"4.8188\"/>\n",
       "<line x1=\"3276.8\" y1=\"2293.8\" x2=\"3257.1\" y2=\"2293.8\" stroke-width=\"4.8188\"/>\n",
       "<line x1=\"819.2\" y1=\"2293.8\" x2=\"838.86\" y2=\"2293.8\" stroke-width=\"4.8188\"/>\n",
       "<line x1=\"3276.8\" y1=\"2392.1\" x2=\"3257.1\" y2=\"2392.1\" stroke-width=\"4.8188\"/>\n",
       "<line x1=\"819.2\" y1=\"2392.1\" x2=\"838.86\" y2=\"2392.1\" stroke-width=\"4.8188\"/>\n",
       "<line x1=\"3276.8\" y1=\"2490.4\" x2=\"3257.1\" y2=\"2490.4\" stroke-width=\"4.8188\"/>\n",
       "<line x1=\"819.2\" y1=\"2490.4\" x2=\"838.86\" y2=\"2490.4\" stroke-width=\"4.8188\"/>\n",
       "<line x1=\"3276.8\" y1=\"2588.7\" x2=\"3257.1\" y2=\"2588.7\" stroke-width=\"4.8188\"/>\n",
       "<line x1=\"819.2\" y1=\"2588.7\" x2=\"838.86\" y2=\"2588.7\" stroke-width=\"4.8188\"/>\n",
       "<line x1=\"3276.8\" y1=\"2687\" x2=\"3257.1\" y2=\"2687\" stroke-width=\"4.8188\"/>\n",
       "<line x1=\"819.2\" y1=\"2687\" x2=\"838.86\" y2=\"2687\" stroke-width=\"4.8188\"/>\n",
       "<line x1=\"3276.8\" y1=\"2785.3\" x2=\"3257.1\" y2=\"2785.3\" stroke-width=\"4.8188\"/>\n",
       "<line x1=\"819.2\" y1=\"2785.3\" x2=\"838.86\" y2=\"2785.3\" stroke-width=\"4.8188\"/>\n",
       "<line x1=\"3276.8\" y1=\"2883.6\" x2=\"3257.1\" y2=\"2883.6\" stroke-width=\"4.8188\"/>\n",
       "<line x1=\"819.2\" y1=\"2883.6\" x2=\"838.86\" y2=\"2883.6\" stroke-width=\"4.8188\"/>\n",
       "<line x1=\"3276.8\" y1=\"2981.9\" x2=\"3257.1\" y2=\"2981.9\" stroke-width=\"4.8188\"/>\n",
       "<line x1=\"819.2\" y1=\"2981.9\" x2=\"838.86\" y2=\"2981.9\" stroke-width=\"4.8188\"/>\n",
       "<line x1=\"3276.8\" y1=\"3080.2\" x2=\"3257.1\" y2=\"3080.2\" stroke-width=\"4.8188\"/>\n",
       "<line x1=\"819.2\" y1=\"3080.2\" x2=\"838.86\" y2=\"3080.2\" stroke-width=\"4.8188\"/>\n",
       "<line x1=\"3276.8\" y1=\"3178.5\" x2=\"3257.1\" y2=\"3178.5\" stroke-width=\"4.8188\"/>\n",
       "<line x1=\"819.2\" y1=\"3178.5\" x2=\"838.86\" y2=\"3178.5\" stroke-width=\"4.8188\"/>\n",
       "<line x1=\"3276.8\" y1=\"3276.8\" x2=\"3257.1\" y2=\"3276.8\" stroke-width=\"4.8188\"/>\n",
       "<line x1=\"819.2\" y1=\"3276.8\" x2=\"838.86\" y2=\"3276.8\" stroke-width=\"4.8188\"/>\n",
       "<text transform=\"translate(1922.5,501.24) scale(1,-1) scale(6.4512) \" font-family=\"Helvetica,sans-serif\" font-size=\"20px\" stroke=\"none\" fill=\"black\">rank</text>\n",
       "<text transform=\"matrix(0 6.4512 6.4512 0 552.83 1764.7) \" font-family=\"Helvetica,sans-serif\" font-size=\"20px\" stroke=\"none\" fill=\"black\">frequency</text>\n",
       "<polyline points=\"827.39,3080.2 835.58,3080.2 843.78,2342.9 851.97,2342.9 860.16,1998.8 868.35,1753.1 876.54,1605.6 884.74,1556.5 892.93,1556.5 901.12,1556.5 909.31,1556.5 917.5,1507.3 925.7,1507.3 933.89,1458.2 942.08,1409 950.27,1409 958.46,1359.9 966.66,1359.9 974.85,1310.7 983.04,1310.7 991.23,1310.7 999.42,1261.6 1007.6,1261.6 1015.8,1212.4 1024,1212.4 1032.2,1163.3 1040.4,1163.3 1048.6,1163.3 1056.8,1163.3 1065,1163.3 1073.2,1163.3 1081.3,1163.3 1089.5,1114.1 1097.7,1114.1 1105.9,1114.1 1114.1,1114.1 1122.3,1065 1130.5,1065 1138.7,1065 1146.9,1065 1155.1,1065 1163.3,1065 1171.5,1065 1179.6,1015.8 1187.8,1015.8 1196,1015.8 1204.2,1015.8 1212.4,1015.8 1220.6,1015.8 1228.8,1015.8 1237,1015.8 1245.2,1015.8 1253.4,1015.8 1261.6,1015.8 1269.8,1015.8 1278,1015.8 1286.1,1015.8 1294.3,1015.8 1302.5,1015.8 1310.7,1015.8 1318.9,1015.8 1327.1,1015.8 1335.3,1015.8 1343.5,966.66 1351.7,966.66 1359.9,966.66 1368.1,966.66 1376.3,966.66 1384.4,966.66 1392.6,966.66 1400.8,966.66 1409,966.66 1417.2,966.66 1425.4,966.66 1433.6,966.66 1441.8,966.66 1450,966.66 1458.2,966.66 1466.4,966.66 1474.6,917.5 1482.8,917.5 1490.9,917.5 1499.1,917.5 1507.3,917.5 1515.5,917.5 1523.7,917.5 1531.9,917.5 1540.1,917.5 1548.3,917.5 1556.5,917.5 1564.7,917.5 1572.9,917.5 1581.1,917.5 1589.2,917.5 1597.4,917.5 1605.6,917.5 1613.8,917.5 1622,917.5 1630.2,917.5 1638.4,917.5 1646.6,917.5 1654.8,917.5 1663,917.5 1671.2,917.5 1679.4,917.5 1687.6,917.5 1695.7,917.5 1703.9,917.5 1712.1,917.5 1720.3,917.5 1728.5,917.5 1736.7,917.5 1744.9,917.5 1753.1,917.5 1761.3,917.5 1769.5,917.5 1777.7,917.5 1785.9,917.5 1794,868.35 1802.2,868.35 1810.4,868.35 1818.6,868.35 1826.8,868.35 1835,868.35 1843.2,868.35 1851.4,868.35 1859.6,868.35 1867.8,868.35 1876,868.35 1884.2,868.35 1892.4,868.35 1900.5,868.35 1908.7,868.35 1916.9,868.35 1925.1,868.35 1933.3,868.35 1941.5,868.35 1949.7,868.35 1957.9,868.35 1966.1,868.35 1974.3,868.35 1982.5,868.35 1990.7,868.35 1998.8,868.35 2007,868.35 2015.2,868.35 2023.4,868.35 2031.6,868.35 2039.8,868.35 2048,868.35 2056.2,868.35 2064.4,868.35 2072.6,868.35 2080.8,868.35 2089,868.35 2097.2,868.35 2105.3,868.35 2113.5,868.35 2121.7,868.35 2129.9,868.35 2138.1,868.35 2146.3,868.35 2154.5,868.35 2162.7,868.35 2170.9,868.35 2179.1,868.35 2187.3,868.35 2195.5,868.35 2203.6,868.35 2211.8,868.35 2220,868.35 2228.2,868.35 2236.4,868.35 2244.6,868.35 2252.8,868.35 2261,868.35 2269.2,868.35 2277.4,868.35 2285.6,868.35 2293.8,868.35 2302,868.35 2310.1,868.35 2318.3,868.35 2326.5,868.35 2334.7,868.35 2342.9,868.35 2351.1,868.35 2359.3,868.35 2367.5,868.35 2375.7,868.35 2383.9,868.35 2392.1,868.35 2400.3,868.35 2408.4,868.35 2416.6,868.35 2424.8,868.35 2433,868.35 2441.2,868.35 2449.4,868.35 2457.6,868.35 2465.8,868.35 2474,868.35 2482.2,868.35 2490.4,868.35 2498.6,868.35 2506.8,868.35 2514.9,868.35 2523.1,868.35 2531.3,868.35 2539.5,868.35 2547.7,868.35 2555.9,868.35 2564.1,868.35 2572.3,868.35 2580.5,868.35 2588.7,868.35 2596.9,868.35 2605.1,868.35 2613.2,868.35 2621.4,868.35 2629.6,868.35 2637.8,868.35 2646,868.35 2654.2,868.35 2662.4,868.35 2670.6,868.35 2678.8,868.35 2687,868.35 2695.2,868.35 2703.4,868.35 2711.6,868.35 2719.7,868.35 2727.9,868.35 2736.1,868.35 2744.3,868.35 2752.5,868.35 2760.7,868.35 2768.9,868.35 2777.1,868.35 2785.3,868.35 2793.5,868.35 2801.7,868.35 2809.9,868.35 2818,868.35 2826.2,868.35 2834.4,868.35 2842.6,868.35 2850.8,868.35 2859,868.35 2867.2,868.35 2875.4,868.35 2883.6,868.35 2891.8,868.35 2900,868.35 2908.2,868.35 2916.4,868.35 2924.5,868.35 2932.7,868.35 2940.9,868.35 2949.1,868.35 2957.3,868.35 \" stroke-width=\"4.8188\"/>\n",
       "</g>\n",
       "</svg>"
      ],
      "text/plain": [
       "<IPython.core.display.SVG object>"
      ]
     },
     "metadata": {},
     "output_type": "display_data"
    }
   ],
   "source": [
    "display(SVG(filename='tf-tatsuta.svg'))\n",
    "display(SVG(filename='df-tatsuta.svg'))"
   ]
  },
  {
   "cell_type": "markdown",
   "metadata": {
    "id": "OQfRrfsAgeSV"
   },
   "source": [
    "## Content words"
   ]
  },
  {
   "cell_type": "code",
   "execution_count": null,
   "metadata": {
    "id": "i6XP8R6Xgd4o"
   },
   "outputs": [],
   "source": []
  },
  {
   "cell_type": "code",
   "execution_count": null,
   "metadata": {
    "id": "qrrVHyiPfwrj"
   },
   "outputs": [],
   "source": [
    "import pandas as pd\n",
    "df = pd.read_table('hachidai.db', usecols=range(9), sep=' ',\n",
    "                   names=['id', 'token_type', 'bg_id', 'chasen_id', 'surface', 'lemma', 'lemma_reading', 'kanji', 'kanji_reading'])"
   ]
  },
  {
   "cell_type": "code",
   "execution_count": null,
   "metadata": {
    "id": "UcDIqAL9rWT9"
   },
   "outputs": [],
   "source": [
    "df['semantic_field'] = df['bg_id'].str[:8]\n",
    "df['poem_id'] = df['id'].str.split(':').str[:2].str.join(':')"
   ]
  },
  {
   "cell_type": "code",
   "execution_count": null,
   "metadata": {
    "colab": {
     "base_uri": "https://localhost:8080/",
     "height": 206
    },
    "id": "xBkeeGMwrb2k",
    "outputId": "01892a63-667a-446e-ace6-bb9829ccf23a"
   },
   "outputs": [
    {
     "data": {
      "application/vnd.google.colaboratory.intrinsic+json": {
       "type": "dataframe",
       "variable_name": "df"
      },
      "text/html": [
       "\n",
       "  <div id=\"df-472f4d51-dd4b-407a-94f2-8f71699664f7\" class=\"colab-df-container\">\n",
       "    <div>\n",
       "<style scoped>\n",
       "    .dataframe tbody tr th:only-of-type {\n",
       "        vertical-align: middle;\n",
       "    }\n",
       "\n",
       "    .dataframe tbody tr th {\n",
       "        vertical-align: top;\n",
       "    }\n",
       "\n",
       "    .dataframe thead th {\n",
       "        text-align: right;\n",
       "    }\n",
       "</style>\n",
       "<table border=\"1\" class=\"dataframe\">\n",
       "  <thead>\n",
       "    <tr style=\"text-align: right;\">\n",
       "      <th></th>\n",
       "      <th>id</th>\n",
       "      <th>token_type</th>\n",
       "      <th>bg_id</th>\n",
       "      <th>chasen_id</th>\n",
       "      <th>surface</th>\n",
       "      <th>lemma</th>\n",
       "      <th>lemma_reading</th>\n",
       "      <th>kanji</th>\n",
       "      <th>kanji_reading</th>\n",
       "      <th>semantic_field</th>\n",
       "      <th>poem_id</th>\n",
       "    </tr>\n",
       "  </thead>\n",
       "  <tbody>\n",
       "    <tr>\n",
       "      <th>0</th>\n",
       "      <td>01:000001:0001</td>\n",
       "      <td>A00</td>\n",
       "      <td>BG-01-1630-01-0100</td>\n",
       "      <td>2</td>\n",
       "      <td>年</td>\n",
       "      <td>年</td>\n",
       "      <td>とし</td>\n",
       "      <td>年</td>\n",
       "      <td>とし</td>\n",
       "      <td>BG-01-16</td>\n",
       "      <td>01:000001</td>\n",
       "    </tr>\n",
       "    <tr>\n",
       "      <th>1</th>\n",
       "      <td>01:000001:0001</td>\n",
       "      <td>A10</td>\n",
       "      <td>BG-01-1911-03-1800</td>\n",
       "      <td>2</td>\n",
       "      <td>年</td>\n",
       "      <td>年</td>\n",
       "      <td>とし</td>\n",
       "      <td>年</td>\n",
       "      <td>とし</td>\n",
       "      <td>BG-01-19</td>\n",
       "      <td>01:000001</td>\n",
       "    </tr>\n",
       "    <tr>\n",
       "      <th>2</th>\n",
       "      <td>01:000001:0002</td>\n",
       "      <td>A00</td>\n",
       "      <td>BG-08-0061-07-0100</td>\n",
       "      <td>61</td>\n",
       "      <td>の</td>\n",
       "      <td>の</td>\n",
       "      <td>の</td>\n",
       "      <td>の</td>\n",
       "      <td>の</td>\n",
       "      <td>BG-08-00</td>\n",
       "      <td>01:000001</td>\n",
       "    </tr>\n",
       "    <tr>\n",
       "      <th>3</th>\n",
       "      <td>01:000001:0003</td>\n",
       "      <td>A00</td>\n",
       "      <td>BG-01-1770-01-0300</td>\n",
       "      <td>2</td>\n",
       "      <td>内</td>\n",
       "      <td>内</td>\n",
       "      <td>うち</td>\n",
       "      <td>内</td>\n",
       "      <td>うち</td>\n",
       "      <td>BG-01-17</td>\n",
       "      <td>01:000001</td>\n",
       "    </tr>\n",
       "    <tr>\n",
       "      <th>4</th>\n",
       "      <td>01:000001:0004</td>\n",
       "      <td>A00</td>\n",
       "      <td>BG-08-0061-05-0100</td>\n",
       "      <td>61</td>\n",
       "      <td>に</td>\n",
       "      <td>に</td>\n",
       "      <td>に</td>\n",
       "      <td>に</td>\n",
       "      <td>に</td>\n",
       "      <td>BG-08-00</td>\n",
       "      <td>01:000001</td>\n",
       "    </tr>\n",
       "  </tbody>\n",
       "</table>\n",
       "</div>\n",
       "    <div class=\"colab-df-buttons\">\n",
       "\n",
       "  <div class=\"colab-df-container\">\n",
       "    <button class=\"colab-df-convert\" onclick=\"convertToInteractive('df-472f4d51-dd4b-407a-94f2-8f71699664f7')\"\n",
       "            title=\"Convert this dataframe to an interactive table.\"\n",
       "            style=\"display:none;\">\n",
       "\n",
       "  <svg xmlns=\"http://www.w3.org/2000/svg\" height=\"24px\" viewBox=\"0 -960 960 960\">\n",
       "    <path d=\"M120-120v-720h720v720H120Zm60-500h600v-160H180v160Zm220 220h160v-160H400v160Zm0 220h160v-160H400v160ZM180-400h160v-160H180v160Zm440 0h160v-160H620v160ZM180-180h160v-160H180v160Zm440 0h160v-160H620v160Z\"/>\n",
       "  </svg>\n",
       "    </button>\n",
       "\n",
       "  <style>\n",
       "    .colab-df-container {\n",
       "      display:flex;\n",
       "      gap: 12px;\n",
       "    }\n",
       "\n",
       "    .colab-df-convert {\n",
       "      background-color: #E8F0FE;\n",
       "      border: none;\n",
       "      border-radius: 50%;\n",
       "      cursor: pointer;\n",
       "      display: none;\n",
       "      fill: #1967D2;\n",
       "      height: 32px;\n",
       "      padding: 0 0 0 0;\n",
       "      width: 32px;\n",
       "    }\n",
       "\n",
       "    .colab-df-convert:hover {\n",
       "      background-color: #E2EBFA;\n",
       "      box-shadow: 0px 1px 2px rgba(60, 64, 67, 0.3), 0px 1px 3px 1px rgba(60, 64, 67, 0.15);\n",
       "      fill: #174EA6;\n",
       "    }\n",
       "\n",
       "    .colab-df-buttons div {\n",
       "      margin-bottom: 4px;\n",
       "    }\n",
       "\n",
       "    [theme=dark] .colab-df-convert {\n",
       "      background-color: #3B4455;\n",
       "      fill: #D2E3FC;\n",
       "    }\n",
       "\n",
       "    [theme=dark] .colab-df-convert:hover {\n",
       "      background-color: #434B5C;\n",
       "      box-shadow: 0px 1px 3px 1px rgba(0, 0, 0, 0.15);\n",
       "      filter: drop-shadow(0px 1px 2px rgba(0, 0, 0, 0.3));\n",
       "      fill: #FFFFFF;\n",
       "    }\n",
       "  </style>\n",
       "\n",
       "    <script>\n",
       "      const buttonEl =\n",
       "        document.querySelector('#df-472f4d51-dd4b-407a-94f2-8f71699664f7 button.colab-df-convert');\n",
       "      buttonEl.style.display =\n",
       "        google.colab.kernel.accessAllowed ? 'block' : 'none';\n",
       "\n",
       "      async function convertToInteractive(key) {\n",
       "        const element = document.querySelector('#df-472f4d51-dd4b-407a-94f2-8f71699664f7');\n",
       "        const dataTable =\n",
       "          await google.colab.kernel.invokeFunction('convertToInteractive',\n",
       "                                                    [key], {});\n",
       "        if (!dataTable) return;\n",
       "\n",
       "        const docLinkHtml = 'Like what you see? Visit the ' +\n",
       "          '<a target=\"_blank\" href=https://colab.research.google.com/notebooks/data_table.ipynb>data table notebook</a>'\n",
       "          + ' to learn more about interactive tables.';\n",
       "        element.innerHTML = '';\n",
       "        dataTable['output_type'] = 'display_data';\n",
       "        await google.colab.output.renderOutput(dataTable, element);\n",
       "        const docLink = document.createElement('div');\n",
       "        docLink.innerHTML = docLinkHtml;\n",
       "        element.appendChild(docLink);\n",
       "      }\n",
       "    </script>\n",
       "  </div>\n",
       "\n",
       "\n",
       "<div id=\"df-4dc6a41c-dcd7-42db-bfd1-5df37acdabe9\">\n",
       "  <button class=\"colab-df-quickchart\" onclick=\"quickchart('df-4dc6a41c-dcd7-42db-bfd1-5df37acdabe9')\"\n",
       "            title=\"Suggest charts\"\n",
       "            style=\"display:none;\">\n",
       "\n",
       "<svg xmlns=\"http://www.w3.org/2000/svg\" height=\"24px\"viewBox=\"0 0 24 24\"\n",
       "     width=\"24px\">\n",
       "    <g>\n",
       "        <path d=\"M19 3H5c-1.1 0-2 .9-2 2v14c0 1.1.9 2 2 2h14c1.1 0 2-.9 2-2V5c0-1.1-.9-2-2-2zM9 17H7v-7h2v7zm4 0h-2V7h2v10zm4 0h-2v-4h2v4z\"/>\n",
       "    </g>\n",
       "</svg>\n",
       "  </button>\n",
       "\n",
       "<style>\n",
       "  .colab-df-quickchart {\n",
       "      --bg-color: #E8F0FE;\n",
       "      --fill-color: #1967D2;\n",
       "      --hover-bg-color: #E2EBFA;\n",
       "      --hover-fill-color: #174EA6;\n",
       "      --disabled-fill-color: #AAA;\n",
       "      --disabled-bg-color: #DDD;\n",
       "  }\n",
       "\n",
       "  [theme=dark] .colab-df-quickchart {\n",
       "      --bg-color: #3B4455;\n",
       "      --fill-color: #D2E3FC;\n",
       "      --hover-bg-color: #434B5C;\n",
       "      --hover-fill-color: #FFFFFF;\n",
       "      --disabled-bg-color: #3B4455;\n",
       "      --disabled-fill-color: #666;\n",
       "  }\n",
       "\n",
       "  .colab-df-quickchart {\n",
       "    background-color: var(--bg-color);\n",
       "    border: none;\n",
       "    border-radius: 50%;\n",
       "    cursor: pointer;\n",
       "    display: none;\n",
       "    fill: var(--fill-color);\n",
       "    height: 32px;\n",
       "    padding: 0;\n",
       "    width: 32px;\n",
       "  }\n",
       "\n",
       "  .colab-df-quickchart:hover {\n",
       "    background-color: var(--hover-bg-color);\n",
       "    box-shadow: 0 1px 2px rgba(60, 64, 67, 0.3), 0 1px 3px 1px rgba(60, 64, 67, 0.15);\n",
       "    fill: var(--button-hover-fill-color);\n",
       "  }\n",
       "\n",
       "  .colab-df-quickchart-complete:disabled,\n",
       "  .colab-df-quickchart-complete:disabled:hover {\n",
       "    background-color: var(--disabled-bg-color);\n",
       "    fill: var(--disabled-fill-color);\n",
       "    box-shadow: none;\n",
       "  }\n",
       "\n",
       "  .colab-df-spinner {\n",
       "    border: 2px solid var(--fill-color);\n",
       "    border-color: transparent;\n",
       "    border-bottom-color: var(--fill-color);\n",
       "    animation:\n",
       "      spin 1s steps(1) infinite;\n",
       "  }\n",
       "\n",
       "  @keyframes spin {\n",
       "    0% {\n",
       "      border-color: transparent;\n",
       "      border-bottom-color: var(--fill-color);\n",
       "      border-left-color: var(--fill-color);\n",
       "    }\n",
       "    20% {\n",
       "      border-color: transparent;\n",
       "      border-left-color: var(--fill-color);\n",
       "      border-top-color: var(--fill-color);\n",
       "    }\n",
       "    30% {\n",
       "      border-color: transparent;\n",
       "      border-left-color: var(--fill-color);\n",
       "      border-top-color: var(--fill-color);\n",
       "      border-right-color: var(--fill-color);\n",
       "    }\n",
       "    40% {\n",
       "      border-color: transparent;\n",
       "      border-right-color: var(--fill-color);\n",
       "      border-top-color: var(--fill-color);\n",
       "    }\n",
       "    60% {\n",
       "      border-color: transparent;\n",
       "      border-right-color: var(--fill-color);\n",
       "    }\n",
       "    80% {\n",
       "      border-color: transparent;\n",
       "      border-right-color: var(--fill-color);\n",
       "      border-bottom-color: var(--fill-color);\n",
       "    }\n",
       "    90% {\n",
       "      border-color: transparent;\n",
       "      border-bottom-color: var(--fill-color);\n",
       "    }\n",
       "  }\n",
       "</style>\n",
       "\n",
       "  <script>\n",
       "    async function quickchart(key) {\n",
       "      const quickchartButtonEl =\n",
       "        document.querySelector('#' + key + ' button');\n",
       "      quickchartButtonEl.disabled = true;  // To prevent multiple clicks.\n",
       "      quickchartButtonEl.classList.add('colab-df-spinner');\n",
       "      try {\n",
       "        const charts = await google.colab.kernel.invokeFunction(\n",
       "            'suggestCharts', [key], {});\n",
       "      } catch (error) {\n",
       "        console.error('Error during call to suggestCharts:', error);\n",
       "      }\n",
       "      quickchartButtonEl.classList.remove('colab-df-spinner');\n",
       "      quickchartButtonEl.classList.add('colab-df-quickchart-complete');\n",
       "    }\n",
       "    (() => {\n",
       "      let quickchartButtonEl =\n",
       "        document.querySelector('#df-4dc6a41c-dcd7-42db-bfd1-5df37acdabe9 button');\n",
       "      quickchartButtonEl.style.display =\n",
       "        google.colab.kernel.accessAllowed ? 'block' : 'none';\n",
       "    })();\n",
       "  </script>\n",
       "</div>\n",
       "\n",
       "    </div>\n",
       "  </div>\n"
      ],
      "text/plain": [
       "               id token_type               bg_id  chasen_id surface lemma  \\\n",
       "0  01:000001:0001        A00  BG-01-1630-01-0100          2       年     年   \n",
       "1  01:000001:0001        A10  BG-01-1911-03-1800          2       年     年   \n",
       "2  01:000001:0002        A00  BG-08-0061-07-0100         61       の     の   \n",
       "3  01:000001:0003        A00  BG-01-1770-01-0300          2       内     内   \n",
       "4  01:000001:0004        A00  BG-08-0061-05-0100         61       に     に   \n",
       "\n",
       "  lemma_reading kanji kanji_reading semantic_field    poem_id  \n",
       "0            とし     年            とし       BG-01-16  01:000001  \n",
       "1            とし     年            とし       BG-01-19  01:000001  \n",
       "2             の     の             の       BG-08-00  01:000001  \n",
       "3            うち     内            うち       BG-01-17  01:000001  \n",
       "4             に     に             に       BG-08-00  01:000001  "
      ]
     },
     "execution_count": 7,
     "metadata": {},
     "output_type": "execute_result"
    }
   ],
   "source": [
    "df.head()"
   ]
  },
  {
   "cell_type": "markdown",
   "metadata": {
    "id": "hFGaQYzkzbEr"
   },
   "source": [
    "## Tatsuta"
   ]
  },
  {
   "cell_type": "code",
   "execution_count": null,
   "metadata": {
    "colab": {
     "base_uri": "https://localhost:8080/",
     "height": 573
    },
    "id": "tW6mKDXBs62b",
    "outputId": "74436a5b-07bd-473d-ece2-8cefc63272a9"
   },
   "outputs": [
    {
     "data": {
      "application/vnd.google.colaboratory.intrinsic+json": {
       "summary": "{\n  \"name\": \"obj\",\n  \"rows\": 1275,\n  \"fields\": [\n    {\n      \"column\": \"id\",\n      \"properties\": {\n        \"dtype\": \"string\",\n        \"num_unique_values\": 960,\n        \"samples\": [\n          \"08:000412:0012\",\n          \"03:000389:0009\",\n          \"02:000386:0006\"\n        ],\n        \"semantic_type\": \"\",\n        \"description\": \"\"\n      }\n    },\n    {\n      \"column\": \"token_type\",\n      \"properties\": {\n        \"dtype\": \"category\",\n        \"num_unique_values\": 11,\n        \"samples\": [\n          \"E02\",\n          \"A00\",\n          \"C02\"\n        ],\n        \"semantic_type\": \"\",\n        \"description\": \"\"\n      }\n    },\n    {\n      \"column\": \"bg_id\",\n      \"properties\": {\n        \"dtype\": \"category\",\n        \"num_unique_values\": 329,\n        \"samples\": [\n          \"BG-01-5240-05-0100\",\n          \"BG-01-2110-03-0100\",\n          \"BG-01-5620-02-1902\"\n        ],\n        \"semantic_type\": \"\",\n        \"description\": \"\"\n      }\n    },\n    {\n      \"column\": \"chasen_id\",\n      \"properties\": {\n        \"dtype\": \"number\",\n        \"std\": 27,\n        \"min\": 2,\n        \"max\": 75,\n        \"num_unique_values\": 20,\n        \"samples\": [\n          2,\n          33,\n          17\n        ],\n        \"semantic_type\": \"\",\n        \"description\": \"\"\n      }\n    },\n    {\n      \"column\": \"surface\",\n      \"properties\": {\n        \"dtype\": \"category\",\n        \"num_unique_values\": 328,\n        \"samples\": [\n          \"\\u5d50\",\n          \"\\u304a\\u3082\\u3072\",\n          \"\\u5fc3\"\n        ],\n        \"semantic_type\": \"\",\n        \"description\": \"\"\n      }\n    },\n    {\n      \"column\": \"lemma\",\n      \"properties\": {\n        \"dtype\": \"category\",\n        \"num_unique_values\": 274,\n        \"samples\": [\n          \"\\u306b\",\n          \"\\u6d45\\u3059\",\n          \"\\u5e30\\u308b\"\n        ],\n        \"semantic_type\": \"\",\n        \"description\": \"\"\n      }\n    },\n    {\n      \"column\": \"lemma_reading\",\n      \"properties\": {\n        \"dtype\": \"category\",\n        \"num_unique_values\": 261,\n        \"samples\": [\n          \"\\u306b\",\n          \"\\u3044\\u308d\",\n          \"\\u3055\\u304d\"\n        ],\n        \"semantic_type\": \"\",\n        \"description\": \"\"\n      }\n    },\n    {\n      \"column\": \"kanji\",\n      \"properties\": {\n        \"dtype\": \"category\",\n        \"num_unique_values\": 312,\n        \"samples\": [\n          \"\\u99b4\\u3089\\u3059\",\n          \"\\u5c71\",\n          \"\\u3092\"\n        ],\n        \"semantic_type\": \"\",\n        \"description\": \"\"\n      }\n    },\n    {\n      \"column\": \"kanji_reading\",\n      \"properties\": {\n        \"dtype\": \"category\",\n        \"num_unique_values\": 294,\n        \"samples\": [\n          \"\\u3089\\u3057\",\n          \"\\u3084\\u307e\",\n          \"\\u307f\\u308b\"\n        ],\n        \"semantic_type\": \"\",\n        \"description\": \"\"\n      }\n    },\n    {\n      \"column\": \"semantic_field\",\n      \"properties\": {\n        \"dtype\": \"category\",\n        \"num_unique_values\": 67,\n        \"samples\": [\n          \"BG-01-31\",\n          \"BG-01-17\",\n          \"BG-03-30\"\n        ],\n        \"semantic_type\": \"\",\n        \"description\": \"\"\n      }\n    },\n    {\n      \"column\": \"poem_id\",\n      \"properties\": {\n        \"dtype\": \"category\",\n        \"num_unique_values\": 62,\n        \"samples\": [\n          \"08:000091\",\n          \"08:000530\",\n          \"01:000108\"\n        ],\n        \"semantic_type\": \"\",\n        \"description\": \"\"\n      }\n    }\n  ]\n}",
       "type": "dataframe",
       "variable_name": "obj"
      },
      "text/html": [
       "\n",
       "  <div id=\"df-8a837063-7563-41d3-9168-1177293d2704\" class=\"colab-df-container\">\n",
       "    <div>\n",
       "<style scoped>\n",
       "    .dataframe tbody tr th:only-of-type {\n",
       "        vertical-align: middle;\n",
       "    }\n",
       "\n",
       "    .dataframe tbody tr th {\n",
       "        vertical-align: top;\n",
       "    }\n",
       "\n",
       "    .dataframe thead th {\n",
       "        text-align: right;\n",
       "    }\n",
       "</style>\n",
       "<table border=\"1\" class=\"dataframe\">\n",
       "  <thead>\n",
       "    <tr style=\"text-align: right;\">\n",
       "      <th></th>\n",
       "      <th>id</th>\n",
       "      <th>token_type</th>\n",
       "      <th>bg_id</th>\n",
       "      <th>chasen_id</th>\n",
       "      <th>surface</th>\n",
       "      <th>lemma</th>\n",
       "      <th>lemma_reading</th>\n",
       "      <th>kanji</th>\n",
       "      <th>kanji_reading</th>\n",
       "      <th>semantic_field</th>\n",
       "      <th>poem_id</th>\n",
       "    </tr>\n",
       "  </thead>\n",
       "  <tbody>\n",
       "    <tr>\n",
       "      <th>2460</th>\n",
       "      <td>01:000108:0001</td>\n",
       "      <td>A00</td>\n",
       "      <td>BG-01-5530-12-0100</td>\n",
       "      <td>2</td>\n",
       "      <td>花</td>\n",
       "      <td>花</td>\n",
       "      <td>はな</td>\n",
       "      <td>花</td>\n",
       "      <td>はな</td>\n",
       "      <td>BG-01-55</td>\n",
       "      <td>01:000108</td>\n",
       "    </tr>\n",
       "    <tr>\n",
       "      <th>2461</th>\n",
       "      <td>01:000108:0002</td>\n",
       "      <td>A00</td>\n",
       "      <td>BG-08-0061-07-0100</td>\n",
       "      <td>61</td>\n",
       "      <td>の</td>\n",
       "      <td>の</td>\n",
       "      <td>の</td>\n",
       "      <td>の</td>\n",
       "      <td>の</td>\n",
       "      <td>BG-08-00</td>\n",
       "      <td>01:000108</td>\n",
       "    </tr>\n",
       "    <tr>\n",
       "      <th>2462</th>\n",
       "      <td>01:000108:0003</td>\n",
       "      <td>A00</td>\n",
       "      <td>BG-02-1552-01-0100</td>\n",
       "      <td>47</td>\n",
       "      <td>ちる</td>\n",
       "      <td>散る</td>\n",
       "      <td>ちる</td>\n",
       "      <td>散る</td>\n",
       "      <td>ちる</td>\n",
       "      <td>BG-02-15</td>\n",
       "      <td>01:000108</td>\n",
       "    </tr>\n",
       "    <tr>\n",
       "      <th>2463</th>\n",
       "      <td>01:000108:0004</td>\n",
       "      <td>A00</td>\n",
       "      <td>BG-01-1010-01-0200</td>\n",
       "      <td>2</td>\n",
       "      <td>こと</td>\n",
       "      <td>事</td>\n",
       "      <td>こと</td>\n",
       "      <td>事</td>\n",
       "      <td>こと</td>\n",
       "      <td>BG-01-10</td>\n",
       "      <td>01:000108</td>\n",
       "    </tr>\n",
       "    <tr>\n",
       "      <th>2464</th>\n",
       "      <td>01:000108:0005</td>\n",
       "      <td>A00</td>\n",
       "      <td>BG-08-0065-14-0100</td>\n",
       "      <td>65</td>\n",
       "      <td>や</td>\n",
       "      <td>や</td>\n",
       "      <td>や</td>\n",
       "      <td>や</td>\n",
       "      <td>や</td>\n",
       "      <td>BG-08-00</td>\n",
       "      <td>01:000108</td>\n",
       "    </tr>\n",
       "  </tbody>\n",
       "</table>\n",
       "</div>\n",
       "    <div class=\"colab-df-buttons\">\n",
       "\n",
       "  <div class=\"colab-df-container\">\n",
       "    <button class=\"colab-df-convert\" onclick=\"convertToInteractive('df-8a837063-7563-41d3-9168-1177293d2704')\"\n",
       "            title=\"Convert this dataframe to an interactive table.\"\n",
       "            style=\"display:none;\">\n",
       "\n",
       "  <svg xmlns=\"http://www.w3.org/2000/svg\" height=\"24px\" viewBox=\"0 -960 960 960\">\n",
       "    <path d=\"M120-120v-720h720v720H120Zm60-500h600v-160H180v160Zm220 220h160v-160H400v160Zm0 220h160v-160H400v160ZM180-400h160v-160H180v160Zm440 0h160v-160H620v160ZM180-180h160v-160H180v160Zm440 0h160v-160H620v160Z\"/>\n",
       "  </svg>\n",
       "    </button>\n",
       "\n",
       "  <style>\n",
       "    .colab-df-container {\n",
       "      display:flex;\n",
       "      gap: 12px;\n",
       "    }\n",
       "\n",
       "    .colab-df-convert {\n",
       "      background-color: #E8F0FE;\n",
       "      border: none;\n",
       "      border-radius: 50%;\n",
       "      cursor: pointer;\n",
       "      display: none;\n",
       "      fill: #1967D2;\n",
       "      height: 32px;\n",
       "      padding: 0 0 0 0;\n",
       "      width: 32px;\n",
       "    }\n",
       "\n",
       "    .colab-df-convert:hover {\n",
       "      background-color: #E2EBFA;\n",
       "      box-shadow: 0px 1px 2px rgba(60, 64, 67, 0.3), 0px 1px 3px 1px rgba(60, 64, 67, 0.15);\n",
       "      fill: #174EA6;\n",
       "    }\n",
       "\n",
       "    .colab-df-buttons div {\n",
       "      margin-bottom: 4px;\n",
       "    }\n",
       "\n",
       "    [theme=dark] .colab-df-convert {\n",
       "      background-color: #3B4455;\n",
       "      fill: #D2E3FC;\n",
       "    }\n",
       "\n",
       "    [theme=dark] .colab-df-convert:hover {\n",
       "      background-color: #434B5C;\n",
       "      box-shadow: 0px 1px 3px 1px rgba(0, 0, 0, 0.15);\n",
       "      filter: drop-shadow(0px 1px 2px rgba(0, 0, 0, 0.3));\n",
       "      fill: #FFFFFF;\n",
       "    }\n",
       "  </style>\n",
       "\n",
       "    <script>\n",
       "      const buttonEl =\n",
       "        document.querySelector('#df-8a837063-7563-41d3-9168-1177293d2704 button.colab-df-convert');\n",
       "      buttonEl.style.display =\n",
       "        google.colab.kernel.accessAllowed ? 'block' : 'none';\n",
       "\n",
       "      async function convertToInteractive(key) {\n",
       "        const element = document.querySelector('#df-8a837063-7563-41d3-9168-1177293d2704');\n",
       "        const dataTable =\n",
       "          await google.colab.kernel.invokeFunction('convertToInteractive',\n",
       "                                                    [key], {});\n",
       "        if (!dataTable) return;\n",
       "\n",
       "        const docLinkHtml = 'Like what you see? Visit the ' +\n",
       "          '<a target=\"_blank\" href=https://colab.research.google.com/notebooks/data_table.ipynb>data table notebook</a>'\n",
       "          + ' to learn more about interactive tables.';\n",
       "        element.innerHTML = '';\n",
       "        dataTable['output_type'] = 'display_data';\n",
       "        await google.colab.output.renderOutput(dataTable, element);\n",
       "        const docLink = document.createElement('div');\n",
       "        docLink.innerHTML = docLinkHtml;\n",
       "        element.appendChild(docLink);\n",
       "      }\n",
       "    </script>\n",
       "  </div>\n",
       "\n",
       "\n",
       "<div id=\"df-5e887335-63a1-4b7c-8290-dd9cf2414c7d\">\n",
       "  <button class=\"colab-df-quickchart\" onclick=\"quickchart('df-5e887335-63a1-4b7c-8290-dd9cf2414c7d')\"\n",
       "            title=\"Suggest charts\"\n",
       "            style=\"display:none;\">\n",
       "\n",
       "<svg xmlns=\"http://www.w3.org/2000/svg\" height=\"24px\"viewBox=\"0 0 24 24\"\n",
       "     width=\"24px\">\n",
       "    <g>\n",
       "        <path d=\"M19 3H5c-1.1 0-2 .9-2 2v14c0 1.1.9 2 2 2h14c1.1 0 2-.9 2-2V5c0-1.1-.9-2-2-2zM9 17H7v-7h2v7zm4 0h-2V7h2v10zm4 0h-2v-4h2v4z\"/>\n",
       "    </g>\n",
       "</svg>\n",
       "  </button>\n",
       "\n",
       "<style>\n",
       "  .colab-df-quickchart {\n",
       "      --bg-color: #E8F0FE;\n",
       "      --fill-color: #1967D2;\n",
       "      --hover-bg-color: #E2EBFA;\n",
       "      --hover-fill-color: #174EA6;\n",
       "      --disabled-fill-color: #AAA;\n",
       "      --disabled-bg-color: #DDD;\n",
       "  }\n",
       "\n",
       "  [theme=dark] .colab-df-quickchart {\n",
       "      --bg-color: #3B4455;\n",
       "      --fill-color: #D2E3FC;\n",
       "      --hover-bg-color: #434B5C;\n",
       "      --hover-fill-color: #FFFFFF;\n",
       "      --disabled-bg-color: #3B4455;\n",
       "      --disabled-fill-color: #666;\n",
       "  }\n",
       "\n",
       "  .colab-df-quickchart {\n",
       "    background-color: var(--bg-color);\n",
       "    border: none;\n",
       "    border-radius: 50%;\n",
       "    cursor: pointer;\n",
       "    display: none;\n",
       "    fill: var(--fill-color);\n",
       "    height: 32px;\n",
       "    padding: 0;\n",
       "    width: 32px;\n",
       "  }\n",
       "\n",
       "  .colab-df-quickchart:hover {\n",
       "    background-color: var(--hover-bg-color);\n",
       "    box-shadow: 0 1px 2px rgba(60, 64, 67, 0.3), 0 1px 3px 1px rgba(60, 64, 67, 0.15);\n",
       "    fill: var(--button-hover-fill-color);\n",
       "  }\n",
       "\n",
       "  .colab-df-quickchart-complete:disabled,\n",
       "  .colab-df-quickchart-complete:disabled:hover {\n",
       "    background-color: var(--disabled-bg-color);\n",
       "    fill: var(--disabled-fill-color);\n",
       "    box-shadow: none;\n",
       "  }\n",
       "\n",
       "  .colab-df-spinner {\n",
       "    border: 2px solid var(--fill-color);\n",
       "    border-color: transparent;\n",
       "    border-bottom-color: var(--fill-color);\n",
       "    animation:\n",
       "      spin 1s steps(1) infinite;\n",
       "  }\n",
       "\n",
       "  @keyframes spin {\n",
       "    0% {\n",
       "      border-color: transparent;\n",
       "      border-bottom-color: var(--fill-color);\n",
       "      border-left-color: var(--fill-color);\n",
       "    }\n",
       "    20% {\n",
       "      border-color: transparent;\n",
       "      border-left-color: var(--fill-color);\n",
       "      border-top-color: var(--fill-color);\n",
       "    }\n",
       "    30% {\n",
       "      border-color: transparent;\n",
       "      border-left-color: var(--fill-color);\n",
       "      border-top-color: var(--fill-color);\n",
       "      border-right-color: var(--fill-color);\n",
       "    }\n",
       "    40% {\n",
       "      border-color: transparent;\n",
       "      border-right-color: var(--fill-color);\n",
       "      border-top-color: var(--fill-color);\n",
       "    }\n",
       "    60% {\n",
       "      border-color: transparent;\n",
       "      border-right-color: var(--fill-color);\n",
       "    }\n",
       "    80% {\n",
       "      border-color: transparent;\n",
       "      border-right-color: var(--fill-color);\n",
       "      border-bottom-color: var(--fill-color);\n",
       "    }\n",
       "    90% {\n",
       "      border-color: transparent;\n",
       "      border-bottom-color: var(--fill-color);\n",
       "    }\n",
       "  }\n",
       "</style>\n",
       "\n",
       "  <script>\n",
       "    async function quickchart(key) {\n",
       "      const quickchartButtonEl =\n",
       "        document.querySelector('#' + key + ' button');\n",
       "      quickchartButtonEl.disabled = true;  // To prevent multiple clicks.\n",
       "      quickchartButtonEl.classList.add('colab-df-spinner');\n",
       "      try {\n",
       "        const charts = await google.colab.kernel.invokeFunction(\n",
       "            'suggestCharts', [key], {});\n",
       "      } catch (error) {\n",
       "        console.error('Error during call to suggestCharts:', error);\n",
       "      }\n",
       "      quickchartButtonEl.classList.remove('colab-df-spinner');\n",
       "      quickchartButtonEl.classList.add('colab-df-quickchart-complete');\n",
       "    }\n",
       "    (() => {\n",
       "      let quickchartButtonEl =\n",
       "        document.querySelector('#df-5e887335-63a1-4b7c-8290-dd9cf2414c7d button');\n",
       "      quickchartButtonEl.style.display =\n",
       "        google.colab.kernel.accessAllowed ? 'block' : 'none';\n",
       "    })();\n",
       "  </script>\n",
       "</div>\n",
       "\n",
       "    </div>\n",
       "  </div>\n"
      ],
      "text/plain": [
       "                  id token_type               bg_id  chasen_id surface lemma  \\\n",
       "2460  01:000108:0001        A00  BG-01-5530-12-0100          2       花     花   \n",
       "2461  01:000108:0002        A00  BG-08-0061-07-0100         61       の     の   \n",
       "2462  01:000108:0003        A00  BG-02-1552-01-0100         47      ちる    散る   \n",
       "2463  01:000108:0004        A00  BG-01-1010-01-0200          2      こと     事   \n",
       "2464  01:000108:0005        A00  BG-08-0065-14-0100         65       や     や   \n",
       "\n",
       "     lemma_reading kanji kanji_reading semantic_field    poem_id  \n",
       "2460            はな     花            はな       BG-01-55  01:000108  \n",
       "2461             の     の             の       BG-08-00  01:000108  \n",
       "2462            ちる    散る            ちる       BG-02-15  01:000108  \n",
       "2463            こと     事            こと       BG-01-10  01:000108  \n",
       "2464             や     や             や       BG-08-00  01:000108  "
      ]
     },
     "execution_count": 116,
     "metadata": {},
     "output_type": "execute_result"
    }
   ],
   "source": [
    "# 「たつた」を含む歌\n",
    "obj = df[df['lemma_reading'].str.match('たつた')].poem_id.unique()\n",
    "obj = df[(df['poem_id'].isin(obj)) & (df['token_type'].str.match(r'^[ACE]'))].sort_values('id').copy()\n",
    "obj.head()"
   ]
  },
  {
   "cell_type": "markdown",
   "metadata": {
    "id": "VzaompglzhTo"
   },
   "source": [
    "## Collocation (Term frequency)"
   ]
  },
  {
   "cell_type": "code",
   "execution_count": null,
   "metadata": {
    "colab": {
     "base_uri": "https://localhost:8080/",
     "height": 490
    },
    "id": "NGNNaYMtyAt0",
    "outputId": "45e00531-c53f-48f5-b13d-37c8f1975386"
   },
   "outputs": [
    {
     "data": {
      "text/html": [
       "<div>\n",
       "<style scoped>\n",
       "    .dataframe tbody tr th:only-of-type {\n",
       "        vertical-align: middle;\n",
       "    }\n",
       "\n",
       "    .dataframe tbody tr th {\n",
       "        vertical-align: top;\n",
       "    }\n",
       "\n",
       "    .dataframe thead th {\n",
       "        text-align: right;\n",
       "    }\n",
       "</style>\n",
       "<table border=\"1\" class=\"dataframe\">\n",
       "  <thead>\n",
       "    <tr style=\"text-align: right;\">\n",
       "      <th></th>\n",
       "      <th>count</th>\n",
       "    </tr>\n",
       "    <tr>\n",
       "      <th>lemma_reading</th>\n",
       "      <th></th>\n",
       "    </tr>\n",
       "  </thead>\n",
       "  <tbody>\n",
       "    <tr>\n",
       "      <th>たつた</th>\n",
       "      <td>62</td>\n",
       "    </tr>\n",
       "    <tr>\n",
       "      <th>みる</th>\n",
       "      <td>48</td>\n",
       "    </tr>\n",
       "    <tr>\n",
       "      <th>やま</th>\n",
       "      <td>43</td>\n",
       "    </tr>\n",
       "    <tr>\n",
       "      <th>かは</th>\n",
       "      <td>20</td>\n",
       "    </tr>\n",
       "    <tr>\n",
       "      <th>あき</th>\n",
       "      <td>17</td>\n",
       "    </tr>\n",
       "    <tr>\n",
       "      <th>...</th>\n",
       "      <td>...</td>\n",
       "    </tr>\n",
       "    <tr>\n",
       "      <th>むすぶ</th>\n",
       "      <td>1</td>\n",
       "    </tr>\n",
       "    <tr>\n",
       "      <th>ひも</th>\n",
       "      <td>1</td>\n",
       "    </tr>\n",
       "    <tr>\n",
       "      <th>いも</th>\n",
       "      <td>1</td>\n",
       "    </tr>\n",
       "    <tr>\n",
       "      <th>おと</th>\n",
       "      <td>1</td>\n",
       "    </tr>\n",
       "    <tr>\n",
       "      <th>ゐる</th>\n",
       "      <td>1</td>\n",
       "    </tr>\n",
       "  </tbody>\n",
       "</table>\n",
       "<p>224 rows × 1 columns</p>\n",
       "</div><br><label><b>dtype:</b> int64</label>"
      ],
      "text/plain": [
       "lemma_reading\n",
       "たつた    62\n",
       "みる     48\n",
       "やま     43\n",
       "かは     20\n",
       "あき     17\n",
       "       ..\n",
       "むすぶ     1\n",
       "ひも      1\n",
       "いも      1\n",
       "おと      1\n",
       "ゐる      1\n",
       "Name: count, Length: 224, dtype: int64"
      ]
     },
     "execution_count": 117,
     "metadata": {},
     "output_type": "execute_result"
    }
   ],
   "source": [
    "# term frquency\n",
    "obj[obj['chasen_id'] <= 57].lemma_reading.value_counts()\n",
    "#.to_csv('term-freq.txt', sep='\\t', header=False)"
   ]
  },
  {
   "cell_type": "markdown",
   "metadata": {
    "id": "A3mfKpz22EPZ"
   },
   "source": [
    "## Collocation (Document frequency)"
   ]
  },
  {
   "cell_type": "code",
   "execution_count": null,
   "metadata": {
    "colab": {
     "base_uri": "https://localhost:8080/",
     "height": 429
    },
    "id": "opeoTPrW2Dli",
    "outputId": "b222563a-017c-4544-e9d6-c80bf5c00d6e"
   },
   "outputs": [
    {
     "data": {
      "text/html": [
       "<div>\n",
       "<style scoped>\n",
       "    .dataframe tbody tr th:only-of-type {\n",
       "        vertical-align: middle;\n",
       "    }\n",
       "\n",
       "    .dataframe tbody tr th {\n",
       "        vertical-align: top;\n",
       "    }\n",
       "\n",
       "    .dataframe thead th {\n",
       "        text-align: right;\n",
       "    }\n",
       "</style>\n",
       "<table border=\"1\" class=\"dataframe\">\n",
       "  <thead>\n",
       "    <tr style=\"text-align: right;\">\n",
       "      <th></th>\n",
       "      <th>poem_id</th>\n",
       "    </tr>\n",
       "    <tr>\n",
       "      <th>lemma_reading</th>\n",
       "      <th></th>\n",
       "    </tr>\n",
       "  </thead>\n",
       "  <tbody>\n",
       "    <tr>\n",
       "      <th>たつた</th>\n",
       "      <td>62</td>\n",
       "    </tr>\n",
       "    <tr>\n",
       "      <th>やま</th>\n",
       "      <td>41</td>\n",
       "    </tr>\n",
       "    <tr>\n",
       "      <th>かは</th>\n",
       "      <td>20</td>\n",
       "    </tr>\n",
       "    <tr>\n",
       "      <th>あき</th>\n",
       "      <td>17</td>\n",
       "    </tr>\n",
       "    <tr>\n",
       "      <th>もみづ</th>\n",
       "      <td>17</td>\n",
       "    </tr>\n",
       "    <tr>\n",
       "      <th>にしき</th>\n",
       "      <td>13</td>\n",
       "    </tr>\n",
       "    <tr>\n",
       "      <th>みる</th>\n",
       "      <td>12</td>\n",
       "    </tr>\n",
       "    <tr>\n",
       "      <th>もみじ</th>\n",
       "      <td>10</td>\n",
       "    </tr>\n",
       "    <tr>\n",
       "      <th>は</th>\n",
       "      <td>10</td>\n",
       "    </tr>\n",
       "    <tr>\n",
       "      <th>から</th>\n",
       "      <td>9</td>\n",
       "    </tr>\n",
       "  </tbody>\n",
       "</table>\n",
       "</div><br><label><b>dtype:</b> int64</label>"
      ],
      "text/plain": [
       "lemma_reading\n",
       "たつた    62\n",
       "やま     41\n",
       "かは     20\n",
       "あき     17\n",
       "もみづ    17\n",
       "にしき    13\n",
       "みる     12\n",
       "もみじ    10\n",
       "は      10\n",
       "から      9\n",
       "Name: poem_id, dtype: int64"
      ]
     },
     "execution_count": 118,
     "metadata": {},
     "output_type": "execute_result"
    }
   ],
   "source": [
    "# document frquency\n",
    "obj[obj['chasen_id'] <= 57].groupby('lemma_reading')['poem_id'].nunique().sort_values(ascending=False)[:10]\n",
    "#.to_csv('doc-freq.txt', sep='\\t', header=False"
   ]
  },
  {
   "cell_type": "markdown",
   "metadata": {
    "id": "IJFzoubP_07F"
   },
   "source": [
    "## Colligation (Term frequency)"
   ]
  },
  {
   "cell_type": "code",
   "execution_count": null,
   "metadata": {
    "colab": {
     "base_uri": "https://localhost:8080/",
     "height": 429
    },
    "id": "pQPDaiJr1uzy",
    "outputId": "eacae311-cc65-4ab4-f780-5a2fc207389d"
   },
   "outputs": [
    {
     "data": {
      "text/html": [
       "<div>\n",
       "<style scoped>\n",
       "    .dataframe tbody tr th:only-of-type {\n",
       "        vertical-align: middle;\n",
       "    }\n",
       "\n",
       "    .dataframe tbody tr th {\n",
       "        vertical-align: top;\n",
       "    }\n",
       "\n",
       "    .dataframe thead th {\n",
       "        text-align: right;\n",
       "    }\n",
       "</style>\n",
       "<table border=\"1\" class=\"dataframe\">\n",
       "  <thead>\n",
       "    <tr style=\"text-align: right;\">\n",
       "      <th></th>\n",
       "      <th>count</th>\n",
       "    </tr>\n",
       "    <tr>\n",
       "      <th>lemma_reading</th>\n",
       "      <th></th>\n",
       "    </tr>\n",
       "  </thead>\n",
       "  <tbody>\n",
       "    <tr>\n",
       "      <th>の</th>\n",
       "      <td>140</td>\n",
       "    </tr>\n",
       "    <tr>\n",
       "      <th>に</th>\n",
       "      <td>42</td>\n",
       "    </tr>\n",
       "    <tr>\n",
       "      <th>なり</th>\n",
       "      <td>33</td>\n",
       "    </tr>\n",
       "    <tr>\n",
       "      <th>ぬ</th>\n",
       "      <td>33</td>\n",
       "    </tr>\n",
       "    <tr>\n",
       "      <th>ず</th>\n",
       "      <td>30</td>\n",
       "    </tr>\n",
       "    <tr>\n",
       "      <th>は</th>\n",
       "      <td>27</td>\n",
       "    </tr>\n",
       "    <tr>\n",
       "      <th>ぞ</th>\n",
       "      <td>20</td>\n",
       "    </tr>\n",
       "    <tr>\n",
       "      <th>を</th>\n",
       "      <td>20</td>\n",
       "    </tr>\n",
       "    <tr>\n",
       "      <th>も</th>\n",
       "      <td>19</td>\n",
       "    </tr>\n",
       "    <tr>\n",
       "      <th>む</th>\n",
       "      <td>16</td>\n",
       "    </tr>\n",
       "  </tbody>\n",
       "</table>\n",
       "</div><br><label><b>dtype:</b> int64</label>"
      ],
      "text/plain": [
       "lemma_reading\n",
       "の     140\n",
       "に      42\n",
       "なり     33\n",
       "ぬ      33\n",
       "ず      30\n",
       "は      27\n",
       "ぞ      20\n",
       "を      20\n",
       "も      19\n",
       "む      16\n",
       "Name: count, dtype: int64"
      ]
     },
     "execution_count": 119,
     "metadata": {},
     "output_type": "execute_result"
    }
   ],
   "source": [
    "obj[obj['chasen_id'] >= 58].lemma_reading.value_counts().head(10)\n",
    "#.to_csv('term-freq.txt', sep='\\t', header=False"
   ]
  },
  {
   "cell_type": "code",
   "execution_count": null,
   "metadata": {
    "colab": {
     "base_uri": "https://localhost:8080/",
     "height": 429
    },
    "id": "rrR_CdCoApGC",
    "outputId": "8e45ccae-4ef6-49ac-e59e-5327cd957316"
   },
   "outputs": [
    {
     "data": {
      "text/html": [
       "<div>\n",
       "<style scoped>\n",
       "    .dataframe tbody tr th:only-of-type {\n",
       "        vertical-align: middle;\n",
       "    }\n",
       "\n",
       "    .dataframe tbody tr th {\n",
       "        vertical-align: top;\n",
       "    }\n",
       "\n",
       "    .dataframe thead th {\n",
       "        text-align: right;\n",
       "    }\n",
       "</style>\n",
       "<table border=\"1\" class=\"dataframe\">\n",
       "  <thead>\n",
       "    <tr style=\"text-align: right;\">\n",
       "      <th></th>\n",
       "      <th>poem_id</th>\n",
       "    </tr>\n",
       "    <tr>\n",
       "      <th>lemma_reading</th>\n",
       "      <th></th>\n",
       "    </tr>\n",
       "  </thead>\n",
       "  <tbody>\n",
       "    <tr>\n",
       "      <th>の</th>\n",
       "      <td>61</td>\n",
       "    </tr>\n",
       "    <tr>\n",
       "      <th>に</th>\n",
       "      <td>35</td>\n",
       "    </tr>\n",
       "    <tr>\n",
       "      <th>は</th>\n",
       "      <td>24</td>\n",
       "    </tr>\n",
       "    <tr>\n",
       "      <th>を</th>\n",
       "      <td>20</td>\n",
       "    </tr>\n",
       "    <tr>\n",
       "      <th>なり</th>\n",
       "      <td>17</td>\n",
       "    </tr>\n",
       "    <tr>\n",
       "      <th>や</th>\n",
       "      <td>16</td>\n",
       "    </tr>\n",
       "    <tr>\n",
       "      <th>けり</th>\n",
       "      <td>16</td>\n",
       "    </tr>\n",
       "    <tr>\n",
       "      <th>ず</th>\n",
       "      <td>15</td>\n",
       "    </tr>\n",
       "    <tr>\n",
       "      <th>も</th>\n",
       "      <td>14</td>\n",
       "    </tr>\n",
       "    <tr>\n",
       "      <th>と</th>\n",
       "      <td>14</td>\n",
       "    </tr>\n",
       "  </tbody>\n",
       "</table>\n",
       "</div><br><label><b>dtype:</b> int64</label>"
      ],
      "text/plain": [
       "lemma_reading\n",
       "の     61\n",
       "に     35\n",
       "は     24\n",
       "を     20\n",
       "なり    17\n",
       "や     16\n",
       "けり    16\n",
       "ず     15\n",
       "も     14\n",
       "と     14\n",
       "Name: poem_id, dtype: int64"
      ]
     },
     "execution_count": 120,
     "metadata": {},
     "output_type": "execute_result"
    }
   ],
   "source": [
    "# document frquency\n",
    "obj[obj['chasen_id'] >= 58].groupby('lemma_reading')['poem_id'].nunique().sort_values(ascending=False)[:10]\n",
    "#.to_csv('doc-freq.txt', sep='\\t', header=False"
   ]
  },
  {
   "cell_type": "markdown",
   "metadata": {
    "id": "wMdcFkW2A3Pe"
   },
   "source": [
    "## Semantic preference"
   ]
  },
  {
   "cell_type": "code",
   "execution_count": null,
   "metadata": {
    "colab": {
     "base_uri": "https://localhost:8080/",
     "height": 429
    },
    "id": "g_0lTDazA92Q",
    "outputId": "f40713f2-7693-43de-dd4e-7252e11e6d51"
   },
   "outputs": [
    {
     "data": {
      "text/html": [
       "<div>\n",
       "<style scoped>\n",
       "    .dataframe tbody tr th:only-of-type {\n",
       "        vertical-align: middle;\n",
       "    }\n",
       "\n",
       "    .dataframe tbody tr th {\n",
       "        vertical-align: top;\n",
       "    }\n",
       "\n",
       "    .dataframe thead th {\n",
       "        text-align: right;\n",
       "    }\n",
       "</style>\n",
       "<table border=\"1\" class=\"dataframe\">\n",
       "  <thead>\n",
       "    <tr style=\"text-align: right;\">\n",
       "      <th></th>\n",
       "      <th>poem_id</th>\n",
       "    </tr>\n",
       "    <tr>\n",
       "      <th>semantic_field</th>\n",
       "      <th></th>\n",
       "    </tr>\n",
       "  </thead>\n",
       "  <tbody>\n",
       "    <tr>\n",
       "      <th>CH-29-00</th>\n",
       "      <td>62</td>\n",
       "    </tr>\n",
       "    <tr>\n",
       "      <th>BG-01-52</th>\n",
       "      <td>56</td>\n",
       "    </tr>\n",
       "    <tr>\n",
       "      <th>BG-02-15</th>\n",
       "      <td>48</td>\n",
       "    </tr>\n",
       "    <tr>\n",
       "      <th>BG-01-16</th>\n",
       "      <td>33</td>\n",
       "    </tr>\n",
       "    <tr>\n",
       "      <th>BG-01-51</th>\n",
       "      <td>31</td>\n",
       "    </tr>\n",
       "    <tr>\n",
       "      <th>BG-02-30</th>\n",
       "      <td>30</td>\n",
       "    </tr>\n",
       "    <tr>\n",
       "      <th>BG-01-55</th>\n",
       "      <td>26</td>\n",
       "    </tr>\n",
       "    <tr>\n",
       "      <th>BG-02-50</th>\n",
       "      <td>20</td>\n",
       "    </tr>\n",
       "    <tr>\n",
       "      <th>BG-01-42</th>\n",
       "      <td>19</td>\n",
       "    </tr>\n",
       "    <tr>\n",
       "      <th>BG-01-50</th>\n",
       "      <td>19</td>\n",
       "    </tr>\n",
       "  </tbody>\n",
       "</table>\n",
       "</div><br><label><b>dtype:</b> int64</label>"
      ],
      "text/plain": [
       "semantic_field\n",
       "CH-29-00    62\n",
       "BG-01-52    56\n",
       "BG-02-15    48\n",
       "BG-01-16    33\n",
       "BG-01-51    31\n",
       "BG-02-30    30\n",
       "BG-01-55    26\n",
       "BG-02-50    20\n",
       "BG-01-42    19\n",
       "BG-01-50    19\n",
       "Name: poem_id, dtype: int64"
      ]
     },
     "execution_count": 121,
     "metadata": {},
     "output_type": "execute_result"
    }
   ],
   "source": [
    "# document frquency\n",
    "obj[obj['chasen_id'] <= 57].groupby('semantic_field')['poem_id'].nunique().sort_values(ascending=False)[:10]\n",
    "#.to_csv('doc-freq.txt', sep='\\t', header=False"
   ]
  },
  {
   "cell_type": "code",
   "execution_count": null,
   "metadata": {
    "colab": {
     "base_uri": "https://localhost:8080/"
    },
    "id": "P-phdBYmzX7_",
    "outputId": "4790923f-56bf-4148-bde6-3e1fad05b23f"
   },
   "outputs": [
    {
     "name": "stdout",
     "output_type": "stream",
     "text": [
      "Writing plot.gnuplot\n"
     ]
    }
   ],
   "source": [
    "%%writefile plot.gnuplot\n",
    "set terminal pngcairo size 800,600 enhanced font 'Verdana,10'\n",
    "set output 'term_frequency.png'\n",
    "\n",
    "set boxwidth 0.5\n",
    "set style fill solid\n",
    "\n",
    "set xlabel \"Terms\"\n",
    "set ylabel \"Frequency\"\n",
    "set title \"Term Frequency\"\n",
    "\n",
    "set xtics rotate by -45\n",
    "\n",
    "plot 'data.txt' using 2:xtic(1) with boxes title 'Frequency'"
   ]
  },
  {
   "cell_type": "code",
   "execution_count": null,
   "metadata": {
    "id": "HWV_EvzLzsy7"
   },
   "outputs": [],
   "source": [
    "!gnuplot plot.gnuplot"
   ]
  },
  {
   "cell_type": "code",
   "execution_count": null,
   "metadata": {
    "colab": {
     "base_uri": "https://localhost:8080/",
     "height": 617
    },
    "id": "L_yBHj8M09K2",
    "outputId": "15a2acd1-406a-4f61-b9b9-3416c0d16bea"
   },
   "outputs": [
    {
     "data": {
      "image/png": "[encoded data removed]",
      "text/plain": [
       "<IPython.core.display.Image object>"
      ]
     },
     "execution_count": 74,
     "metadata": {},
     "output_type": "execute_result"
    }
   ],
   "source": [
    "from IPython.display import Image\n",
    "\n",
    "# 假设图片保存为 'term_frequency.png'\n",
    "image_path = 'term_frequency.png'\n",
    "\n",
    "# 显示图片\n",
    "Image(filename=image_path)"
   ]
  },
  {
   "cell_type": "code",
   "execution_count": null,
   "metadata": {
    "id": "EFntQdUz1Bp8"
   },
   "outputs": [],
   "source": []
  }
 ],
 "metadata": {
  "colab": {
   "provenance": []
  },
  "kernelspec": {
   "display_name": "R",
   "language": "R",
   "name": "ir"
  },
  "language_info": {
   "codemirror_mode": "r",
   "file_extension": ".r",
   "mimetype": "text/x-r-source",
   "name": "R",
   "pygments_lexer": "r",
   "version": "4.3.3"
  }
 },
 "nbformat": 4,
 "nbformat_minor": 4
}
